{
 "cells": [
  {
   "cell_type": "code",
   "execution_count": 1,
   "metadata": {},
   "outputs": [
    {
     "name": "stderr",
     "output_type": "stream",
     "text": [
      "/home/momchil/.local/lib/python3.5/site-packages/h5py/__init__.py:36: FutureWarning: Conversion of the second argument of issubdtype from `float` to `np.floating` is deprecated. In future, it will be treated as `np.float64 == np.dtype(float).type`.\n",
      "  from ._conv import register_converters as _register_converters\n"
     ]
    },
    {
     "name": "stdout",
     "output_type": "stream",
     "text": [
      "Library versions:\n",
      "tensorflow:1.7.0\n",
      "pandas:0.22.0\n",
      "numpy:1.14.2\n"
     ]
    },
    {
     "data": {
      "application/vnd.jupyter.widget-view+json": {
       "model_id": "8f7d40f88ece49189b8bb9aac1f8cff0",
       "version_major": 2,
       "version_minor": 0
      },
      "text/html": [
       "<p>Failed to display Jupyter Widget of type <code>HBox</code>.</p>\n",
       "<p>\n",
       "  If you're reading this message in the Jupyter Notebook or JupyterLab Notebook, it may mean\n",
       "  that the widgets JavaScript is still loading. If this message persists, it\n",
       "  likely means that the widgets JavaScript library is either not installed or\n",
       "  not enabled. See the <a href=\"https://ipywidgets.readthedocs.io/en/stable/user_install.html\">Jupyter\n",
       "  Widgets Documentation</a> for setup instructions.\n",
       "</p>\n",
       "<p>\n",
       "  If you're reading this message in another frontend (for example, a static\n",
       "  rendering on GitHub or <a href=\"https://nbviewer.jupyter.org/\">NBViewer</a>),\n",
       "  it may mean that your frontend doesn't currently support widgets.\n",
       "</p>\n"
      ],
      "text/plain": [
       "HBox(children=(IntProgress(value=1, bar_style='info', max=1), HTML(value='')))"
      ]
     },
     "metadata": {},
     "output_type": "display_data"
    },
    {
     "name": "stdout",
     "output_type": "stream",
     "text": [
      "\n"
     ]
    }
   ],
   "source": [
    "%matplotlib inline\n",
    "\n",
    "import re\n",
    "import random\n",
    "import string\n",
    "import time\n",
    "import warnings\n",
    "\n",
    "import importlib\n",
    "\n",
    "import customersupport.common\n",
    "import customersupport.common.utils\n",
    "import customersupport.evaluation.eval\n",
    "\n",
    "print('Library versions:')\n",
    "\n",
    "import tensorflow as tf\n",
    "print('tensorflow:{}'.format(tf.__version__))\n",
    "import pandas as pd\n",
    "print('pandas:{}'.format(pd.__version__))\n",
    "# import sklearn\n",
    "# print('sklearn:{}'.format(sklearn.__version__))\n",
    "# import nltk\n",
    "# print('nltk:{}'.format(nltk.__version__))\n",
    "import numpy as np\n",
    "print('numpy:{}'.format(np.__version__))\n",
    "import matplotlib.pyplot as plt\n",
    "\n",
    "from IPython.display import SVG\n",
    "from tqdm import tqdm_notebook as tqdm  # Special jupyter notebook progress bar\n",
    "\n",
    "from tensorflow.python.layers import core as layers_core\n",
    "from datetime import datetime\n",
    "\n",
    "from customersupport.common.vocab import VocabHolder\n",
    "from customersupport.common.dataset import CustomerSupportDataset\n",
    "\n",
    "from customersupport.evaluation.eval import evaluate_words_index, format_metrics, get_evaluation_conf, strip_punkt\n",
    "\n",
    "importlib.reload(customersupport.common.vocab)\n",
    "importlib.reload(customersupport.common.dataset)\n",
    "importlib.reload(customersupport.common.utils)\n",
    "importlib.reload(customersupport.evaluation.eval)\n",
    "\n",
    "warnings.simplefilter('ignore')\n",
    "\n",
    "tqdm().pandas()  # Enable tracking of progress in dataframe `apply` calls\n",
    "\n",
    "tqdm.monitor_interval = 0"
   ]
  },
  {
   "cell_type": "code",
   "execution_count": 2,
   "metadata": {},
   "outputs": [
    {
     "data": {
      "text/plain": [
       "['device: 0, name: GeForce GTX 1060 6GB, pci bus id: 0000:01:00.0, compute capability: 6.1']"
      ]
     },
     "execution_count": 2,
     "metadata": {},
     "output_type": "execute_result"
    }
   ],
   "source": [
    "from tensorflow.python.client import device_lib\n",
    "\n",
    "def get_available_gpus():\n",
    "    local_device_protos = device_lib.list_local_devices()\n",
    "    return [x.physical_device_desc for x in local_device_protos if x.device_type == 'GPU']\n",
    "\n",
    "get_available_gpus()"
   ]
  },
  {
   "cell_type": "markdown",
   "metadata": {},
   "source": [
    "# Hyperparameters"
   ]
  },
  {
   "cell_type": "code",
   "execution_count": 15,
   "metadata": {},
   "outputs": [],
   "source": [
    "# 8192 - large enough for demonstration, larger values make network training slower\n",
    "MAX_VOCAB_SIZE = 2**13\n",
    "# seq2seq generally relies on fixed length message vectors - longer messages provide more info\n",
    "# but result in slower training and larger networks\n",
    "MAX_MESSAGE_LEN = 70\n",
    "\n",
    "hparams = tf.contrib.training.HParams(\n",
    "    # Larger batch sizes generally reach the average response faster, but small batch sizes are\n",
    "    # required for the model to learn nuanced responses.  Also, GPU memory limits max batch size.\n",
    "    batch_size=128,\n",
    "    encoder_length=MAX_MESSAGE_LEN,\n",
    "    decoder_length=MAX_MESSAGE_LEN,\n",
    "    # Embedding size for whole messages, same trade off as word embeddings\n",
    "    num_units=512,\n",
    "    src_vocab_size=MAX_VOCAB_SIZE,\n",
    "    # Embedding size for words - gives a trade off between expressivity of words and network size\n",
    "    embedding_size=200,\n",
    "    tgt_vocab_size=MAX_VOCAB_SIZE,\n",
    "    # Helps regularize network and prevent overfitting.\n",
    "    # High learning rate helps model reach average response faster, but can make it hard to \n",
    "    # converge on nuanced responses\n",
    "    learning_rate = 0.001, #0.0005,\n",
    "    max_gradient_norm = 5.0,\n",
    "    beam_width = 5,\n",
    "    use_attention = True,\n",
    "    enc_num_layers = 2,\n",
    "    dec_num_layers = 2,\n",
    "    cell_type = 'uni',\n",
    "    rnn_type = 'gru',\n",
    "    max_epochs = 17,\n",
    "    dropout = 0.4,\n",
    "    use_glove = True,\n",
    "    l2_reg = 0.,\n",
    "    glove_path = '/home/momchil/Storage/Projects/Python/Data/glove.twitter.27B/glove.twitter.27B.200d.txt',\n",
    "    tweets_path = '/home/momchil/Storage/Projects/Python/Data/customer-support-on-twitter/twcs-conv_ids_clean.csv',\n",
    "    # Ngram count for ROUGE and BLEU\n",
    "    max_order = 2,\n",
    "    train_size = 0.8,\n",
    "\n",
    "    decay_rate = 0.6,\n",
    "    train_time_diff = 5.0,\n",
    "    first_day = 0, \n",
    "    last_day = 60,\n",
    "    \n",
    "    evaluation_metrics = [\"bleu\", \"rouge_l\", \"embedding_average\", \"vector_extrema\", \"greedy_matching\"],\n",
    "    training_metrics = [\"bleu\", \"rouge_l\", \"embedding_average\", \"vector_extrema\", \"greedy_matching\"],\n",
    "    companies = ['AppleSupport']\n",
    ")"
   ]
  },
  {
   "cell_type": "markdown",
   "metadata": {},
   "source": [
    "# Function Initializations "
   ]
  },
  {
   "cell_type": "code",
   "execution_count": 4,
   "metadata": {},
   "outputs": [],
   "source": [
    "def get_batch_id_chunks(data_len, batch_size):\n",
    "    iters_per_epoch =  int(np.ceil(data_len / batch_size))\n",
    "    \n",
    "    batch_ids = np.array(list(range(data_len)))\n",
    "    #np.random.shuffle(batch_ids)\n",
    "\n",
    "    batch_ids = np.split(batch_ids, ([hparams.batch_size * i for i in range(1, iters_per_epoch)]))\n",
    "    \n",
    "    return batch_ids\n",
    "\n",
    "def next_batch(x, y, train, \n",
    "               rand_idx = None, \n",
    "               weights = None, \n",
    "               beam_width = 10, \n",
    "               batch_size = 128):\n",
    "    if rand_idx is None:\n",
    "        rand_idx = random.sample(list(range(len(x))), batch_size)\n",
    "    batch_size = len(rand_idx)\n",
    "    enc, dec, weights = customersupport.common.utils.transform_batch(x, y, rand_idx, weights=weights, \n",
    "                                                                     batch_size=batch_size, \n",
    "                                                                     mask_pads=True)\n",
    "    seq_lengths = np.count_nonzero(enc[0].T, axis=0)\n",
    "    dec_seq_lengths = np.count_nonzero(dec, axis=1)\n",
    "    feed_dict = {\n",
    "        encoder_inputs: enc[0],\n",
    "        source_sequence_length: seq_lengths,\n",
    "        target_labels: dec,\n",
    "        decoder_inputs: enc[1].T,\n",
    "        decoder_lengths: dec_seq_lengths,\n",
    "        target_weights: weights,\n",
    "        batch_size_tensor: batch_size,\n",
    "        beam_width_tensor: 1 if train else beam_width,\n",
    "        keep_prob: (1 - hparams.dropout) if (train) else 1.\n",
    "    }\n",
    "\n",
    "    return feed_dict\n",
    "\n",
    "def variable_summaries(var):\n",
    "    \"\"\"Attach a lot of summaries to a Tensor (for TensorBoard visualization).\"\"\"\n",
    "    with tf.name_scope('summaries'):\n",
    "        mean = tf.reduce_mean(var)\n",
    "        tf.summary.scalar('mean', mean)\n",
    "        with tf.name_scope('stddev'):\n",
    "            stddev = tf.sqrt(tf.reduce_mean(tf.square(var - mean)))\n",
    "        tf.summary.scalar('stddev', stddev)\n",
    "        tf.summary.scalar('max', tf.reduce_max(var))\n",
    "        tf.summary.scalar('min', tf.reduce_min(var))\n",
    "        tf.summary.histogram('histogram', var)\n",
    "        \n",
    "def embed_tensor(inputs, pretrained_embs, name, trainable=False):\n",
    "\n",
    "    train_embeddings = tf.get_variable(\n",
    "        name=name,\n",
    "        shape=[hparams.tgt_vocab_size - len(voc_holder.glove_weights), hparams.embedding_size],\n",
    "        initializer=tf.random_uniform_initializer(-0.04, 0.04),\n",
    "        trainable=True)\n",
    "    \n",
    "    embeddings = tf.concat(\n",
    "        [train_embeddings, pretrained_embs], axis=0)\n",
    "\n",
    "    return tf.nn.embedding_lookup(embeddings, inputs), embeddings\n",
    "\n",
    "def get_references_and_hypothesis(x, y, eval_conf, verbose):\n",
    "    references = []\n",
    "    hypothesis = []\n",
    "    losses = []\n",
    "    \n",
    "    batch_size = eval_conf.batch_size\n",
    "    beam_width = eval_conf.beam_width\n",
    "    \n",
    "    batch_ids = get_batch_id_chunks(len(x), batch_size)\n",
    "\n",
    "    gen = range(len(batch_ids))\n",
    "    \n",
    "    if (verbose):\n",
    "        gen = tqdm(gen)\n",
    "    \n",
    "    for i in gen:\n",
    "        feed_dict = next_batch(x, y, False,\n",
    "            rand_idx=batch_ids[i], \n",
    "            weights=None,\n",
    "            beam_width=beam_width)\n",
    "        \n",
    "        responses = sess.run(eval_conf.seq_func, feed_dict=feed_dict)\n",
    "        feed_dict[beam_width_tensor] = 1\n",
    "        loss = sess.run(train_loss, feed_dict=feed_dict)\n",
    "        \n",
    "        losses.append(loss)\n",
    "        \n",
    "        if (len(responses.shape) > 2):\n",
    "            responses = responses[0]\n",
    "            \n",
    "        for (h, r) in zip(responses, feed_dict.get(target_labels)):\n",
    "            #references.append(strip_punkt(r, eval_conf.voc_holder.reverse_vocab))\n",
    "            #hypothesis.append(strip_punkt(h, eval_conf.voc_holder.reverse_vocab))\n",
    "            references.append(r[r.nonzero()])\n",
    "            hypothesis.append(h[h.nonzero()])\n",
    "\n",
    "    return (np.array(references), np.array(hypothesis), np.array(losses))\n",
    "\n",
    "def evaluate(x, y, eval_conf, metrics, verbose = False):\n",
    "    references, hypothesis, losses = get_references_and_hypothesis(x, y, eval_conf, verbose)\n",
    "    \n",
    "    evaluation = evaluate_words_index(references, hypothesis, eval_conf, metrics, verbose)\n",
    "    \n",
    "    loss_value = np.mean(losses)\n",
    "    perplexity = np.exp(loss_value / eval_conf.decoder_length)\n",
    "    \n",
    "    evaluation['Loss'] = loss_value\n",
    "    evaluation['Perplexity'] = perplexity\n",
    "    \n",
    "    return evaluation"
   ]
  },
  {
   "cell_type": "markdown",
   "metadata": {},
   "source": [
    "# Data Loading and Preprocessing"
   ]
  },
  {
   "cell_type": "code",
   "execution_count": 5,
   "metadata": {},
   "outputs": [
    {
     "name": "stdout",
     "output_type": "stream",
     "text": [
      "Done support_author (984679, 9)\n",
      "Replacing anonymized screen names in X...\n"
     ]
    },
    {
     "data": {
      "application/vnd.jupyter.widget-view+json": {
       "model_id": "3b94f8c075244ec2b0aec16f7d385e42",
       "version_major": 2,
       "version_minor": 0
      },
      "text/html": [
       "<p>Failed to display Jupyter Widget of type <code>HBox</code>.</p>\n",
       "<p>\n",
       "  If you're reading this message in the Jupyter Notebook or JupyterLab Notebook, it may mean\n",
       "  that the widgets JavaScript is still loading. If this message persists, it\n",
       "  likely means that the widgets JavaScript library is either not installed or\n",
       "  not enabled. See the <a href=\"https://ipywidgets.readthedocs.io/en/stable/user_install.html\">Jupyter\n",
       "  Widgets Documentation</a> for setup instructions.\n",
       "</p>\n",
       "<p>\n",
       "  If you're reading this message in another frontend (for example, a static\n",
       "  rendering on GitHub or <a href=\"https://nbviewer.jupyter.org/\">NBViewer</a>),\n",
       "  it may mean that your frontend doesn't currently support widgets.\n",
       "</p>\n"
      ],
      "text/plain": [
       "HBox(children=(IntProgress(value=0, max=105179), HTML(value='')))"
      ]
     },
     "metadata": {},
     "output_type": "display_data"
    },
    {
     "name": "stdout",
     "output_type": "stream",
     "text": [
      "\n",
      "Replacing anonymized screen names in Y...\n"
     ]
    },
    {
     "data": {
      "application/vnd.jupyter.widget-view+json": {
       "model_id": "e9dde830dc4c4e27a57aab879400d892",
       "version_major": 2,
       "version_minor": 0
      },
      "text/html": [
       "<p>Failed to display Jupyter Widget of type <code>HBox</code>.</p>\n",
       "<p>\n",
       "  If you're reading this message in the Jupyter Notebook or JupyterLab Notebook, it may mean\n",
       "  that the widgets JavaScript is still loading. If this message persists, it\n",
       "  likely means that the widgets JavaScript library is either not installed or\n",
       "  not enabled. See the <a href=\"https://ipywidgets.readthedocs.io/en/stable/user_install.html\">Jupyter\n",
       "  Widgets Documentation</a> for setup instructions.\n",
       "</p>\n",
       "<p>\n",
       "  If you're reading this message in another frontend (for example, a static\n",
       "  rendering on GitHub or <a href=\"https://nbviewer.jupyter.org/\">NBViewer</a>),\n",
       "  it may mean that your frontend doesn't currently support widgets.\n",
       "</p>\n"
      ],
      "text/plain": [
       "HBox(children=(IntProgress(value=0, max=105179), HTML(value='')))"
      ]
     },
     "metadata": {},
     "output_type": "display_data"
    },
    {
     "name": "stdout",
     "output_type": "stream",
     "text": [
      "\n",
      "CPU times: user 3min 3s, sys: 1.27 s, total: 3min 4s\n",
      "Wall time: 3min 4s\n"
     ]
    }
   ],
   "source": [
    "%%time\n",
    "cs_data = CustomerSupportDataset(hparams)\n",
    "\n",
    "#& (y_text.str.contains('help') ^ True)\n",
    "#['direct message', 'is fixed in a future software update']\n",
    "cs_data.process_utterances(['direct message'])"
   ]
  },
  {
   "cell_type": "code",
   "execution_count": 6,
   "metadata": {},
   "outputs": [],
   "source": [
    "voc_holder = VocabHolder(hparams)"
   ]
  },
  {
   "cell_type": "code",
   "execution_count": 16,
   "metadata": {},
   "outputs": [
    {
     "name": "stdout",
     "output_type": "stream",
     "text": [
      "Fitting CountVectorizer on X and Y text data...\n"
     ]
    },
    {
     "data": {
      "application/vnd.jupyter.widget-view+json": {
       "model_id": "e7aad2d4a0e349e9acd1481e4a02753d",
       "version_major": 2,
       "version_minor": 0
      },
      "text/html": [
       "<p>Failed to display Jupyter Widget of type <code>HBox</code>.</p>\n",
       "<p>\n",
       "  If you're reading this message in the Jupyter Notebook or JupyterLab Notebook, it may mean\n",
       "  that the widgets JavaScript is still loading. If this message persists, it\n",
       "  likely means that the widgets JavaScript library is either not installed or\n",
       "  not enabled. See the <a href=\"https://ipywidgets.readthedocs.io/en/stable/user_install.html\">Jupyter\n",
       "  Widgets Documentation</a> for setup instructions.\n",
       "</p>\n",
       "<p>\n",
       "  If you're reading this message in another frontend (for example, a static\n",
       "  rendering on GitHub or <a href=\"https://nbviewer.jupyter.org/\">NBViewer</a>),\n",
       "  it may mean that your frontend doesn't currently support widgets.\n",
       "</p>\n"
      ],
      "text/plain": [
       "HBox(children=(IntProgress(value=0, max=49626), HTML(value='')))"
      ]
     },
     "metadata": {},
     "output_type": "display_data"
    },
    {
     "name": "stdout",
     "output_type": "stream",
     "text": [
      "Number of known words 7333\n",
      "Learned vocab of 8192 items.\n",
      "Calculating word indexes for X...\n"
     ]
    },
    {
     "data": {
      "application/vnd.jupyter.widget-view+json": {
       "model_id": "ae4bb88d823c4f0cb8080d6d9085ed8c",
       "version_major": 2,
       "version_minor": 0
      },
      "text/html": [
       "<p>Failed to display Jupyter Widget of type <code>HBox</code>.</p>\n",
       "<p>\n",
       "  If you're reading this message in the Jupyter Notebook or JupyterLab Notebook, it may mean\n",
       "  that the widgets JavaScript is still loading. If this message persists, it\n",
       "  likely means that the widgets JavaScript library is either not installed or\n",
       "  not enabled. See the <a href=\"https://ipywidgets.readthedocs.io/en/stable/user_install.html\">Jupyter\n",
       "  Widgets Documentation</a> for setup instructions.\n",
       "</p>\n",
       "<p>\n",
       "  If you're reading this message in another frontend (for example, a static\n",
       "  rendering on GitHub or <a href=\"https://nbviewer.jupyter.org/\">NBViewer</a>),\n",
       "  it may mean that your frontend doesn't currently support widgets.\n",
       "</p>\n"
      ],
      "text/plain": [
       "HBox(children=(IntProgress(value=0, max=49626), HTML(value='')))"
      ]
     },
     "metadata": {},
     "output_type": "display_data"
    },
    {
     "name": "stdout",
     "output_type": "stream",
     "text": [
      "Calculating word indexes for Y...\n"
     ]
    },
    {
     "data": {
      "application/vnd.jupyter.widget-view+json": {
       "model_id": "3c08c599ffd64577872aceb30a4f82ac",
       "version_major": 2,
       "version_minor": 0
      },
      "text/html": [
       "<p>Failed to display Jupyter Widget of type <code>HBox</code>.</p>\n",
       "<p>\n",
       "  If you're reading this message in the Jupyter Notebook or JupyterLab Notebook, it may mean\n",
       "  that the widgets JavaScript is still loading. If this message persists, it\n",
       "  likely means that the widgets JavaScript library is either not installed or\n",
       "  not enabled. See the <a href=\"https://ipywidgets.readthedocs.io/en/stable/user_install.html\">Jupyter\n",
       "  Widgets Documentation</a> for setup instructions.\n",
       "</p>\n",
       "<p>\n",
       "  If you're reading this message in another frontend (for example, a static\n",
       "  rendering on GitHub or <a href=\"https://nbviewer.jupyter.org/\">NBViewer</a>),\n",
       "  it may mean that your frontend doesn't currently support widgets.\n",
       "</p>\n"
      ],
      "text/plain": [
       "HBox(children=(IntProgress(value=0, max=49626), HTML(value='')))"
      ]
     },
     "metadata": {},
     "output_type": "display_data"
    },
    {
     "name": "stdout",
     "output_type": "stream",
     "text": [
      "Training data of shape (45582, 70) and test data of shape (4044, 70).\n",
      "count    4.558200e+04\n",
      "mean     1.000000e+00\n",
      "std      4.365364e+00\n",
      "min      2.277772e-11\n",
      "25%      1.884539e-07\n",
      "50%      3.026595e-04\n",
      "75%      1.116794e-02\n",
      "max      3.622743e+01\n",
      "dtype: float64\n",
      "count    4044.000000\n",
      "mean        1.000000\n",
      "std         0.650359\n",
      "min         0.188707\n",
      "25%         0.439407\n",
      "50%         0.835764\n",
      "75%         1.407988\n",
      "max         2.425299\n",
      "dtype: float64\n"
     ]
    }
   ],
   "source": [
    "analyzer = voc_holder.fit(cs_data.x_text, cs_data.y_text, hparams.src_vocab_size)\n",
    "\n",
    "cs_data.text_to_vec(hparams, voc_holder)\n",
    "cs_data.train_test_split(hparams, do_random=False)\n",
    "\n",
    "train_x = cs_data.train_x\n",
    "train_y = cs_data.train_y\n",
    "\n",
    "test_x = cs_data.test_x\n",
    "test_y = cs_data.test_y\n",
    "\n",
    "train_weights = cs_data.train_weights\n",
    "test_weights = cs_data.test_weights"
   ]
  },
  {
   "cell_type": "code",
   "execution_count": 8,
   "metadata": {},
   "outputs": [
    {
     "data": {
      "image/png": "[encoded data removed]",
      "text/plain": [
       "<matplotlib.figure.Figure at 0x7f0f232610f0>"
      ]
     },
     "metadata": {},
     "output_type": "display_data"
    }
   ],
   "source": [
    "_ = plt.figure()\n",
    "_= plt.hist(cs_data.inbounds_and_outbounds.time_diff.values, 6, range=[0, 60])"
   ]
  },
  {
   "cell_type": "markdown",
   "metadata": {},
   "source": [
    "# Model Building"
   ]
  },
  {
   "cell_type": "code",
   "execution_count": 9,
   "metadata": {},
   "outputs": [],
   "source": [
    "def beam_search_decoder(beam_width):\n",
    "    # Replicate encoder infos beam_width times\n",
    "#     decoder_initial_state = (decoder_cell\n",
    "#                                  .zero_state(batch_size_tensor * beam_width, tf.float32)\n",
    "#                                  .clone(cell_state=encoder_state))\n",
    "#    decoder_initial_state = initial_state\n",
    "    # Define a beam-search decoder\n",
    "    decoder_beam = tf.contrib.seq2seq.BeamSearchDecoder(\n",
    "            cell=decoder_cell,\n",
    "            embedding=embedding_decoder,\n",
    "            start_tokens=tf.fill([batch_size_tensor], tgt_sos_id),\n",
    "            end_token=tgt_eos_id,\n",
    "            initial_state=initial_state,\n",
    "            beam_width=beam_width,\n",
    "            output_layer=projection_layer,\n",
    "            length_penalty_weight=0.0)\n",
    "\n",
    "\n",
    "    outputs, _, _ = tf.contrib.seq2seq.dynamic_decode(\n",
    "        decoder_beam, maximum_iterations=maximum_iterations,\n",
    "        parallel_iterations=128)\n",
    "    \n",
    "    translations = tf.transpose(outputs.predicted_ids, [2, 0, 1])\n",
    "    \n",
    "    return translations\n",
    "\n",
    "def greedy_decoder():\n",
    "    # Inference\n",
    "    inference_helper = tf.contrib.seq2seq.GreedyEmbeddingHelper(\n",
    "        embedding_decoder, tf.fill([batch_size_tensor], tgt_sos_id),\n",
    "        tgt_eos_id)\n",
    "\n",
    "    decoder = tf.contrib.seq2seq.BasicDecoder(\n",
    "        decoder_cell,\n",
    "        inference_helper,\n",
    "        initial_state,\n",
    "        output_layer=projection_layer)\n",
    "    # Dynamic decoding\n",
    "    outputs, final_context_state, _ = \\\n",
    "        tf.contrib.seq2seq.dynamic_decode(decoder, maximum_iterations=maximum_iterations)\n",
    "    translations = outputs.sample_id\n",
    "\n",
    "    return translations\n",
    "\n",
    "def _rnn_cell(num_units, keep_prob, state_is_tuple = True):\n",
    "    #initializer=tf.glorot_uniform_initializer()\n",
    "    \n",
    "    #Luong init https://arxiv.org/pdf/1508.04025.pdf \n",
    "    initializer=tf.random_uniform_initializer(-0.1, 0.1)\n",
    "    \n",
    "    _cell = (tf.nn.rnn_cell.GRUCell(num_units, kernel_initializer=initializer) if (hparams.rnn_type == 'gru') else \n",
    "            tf.nn.rnn_cell.LSTMCell(num_units, state_is_tuple=state_is_tuple, initializer=initializer))\n",
    "    _cell = tf.contrib.rnn.DropoutWrapper(_cell, output_keep_prob=keep_prob, variational_recurrent=True, dtype=tf.float32)\n",
    "    return _cell\n",
    "\n",
    "def build_rnn_cell(num_units, keep_prob, state_is_tuple = True, layers = 1):\n",
    "    if (layers == 1):\n",
    "        return _rnn_cell(num_units, keep_prob, state_is_tuple)\n",
    "    else:\n",
    "        return tf.contrib.rnn.MultiRNNCell(\n",
    "            [_rnn_cell(num_units, keep_prob, state_is_tuple) for i in range(layers)],\n",
    "            state_is_tuple=state_is_tuple)"
   ]
  },
  {
   "cell_type": "markdown",
   "metadata": {},
   "source": [
    "# Repos\n",
    "https://gist.github.com/higepon/eb81ba0f6663a57ff1908442ce753084\n",
    "\n",
    "https://github.com/tensorflow/nmt/blob/master/nmt/model.py\n",
    "\n",
    "https://github.com/tensorflow/nmt/blob/master/nmt/attention_model.py\n",
    "\n",
    "## Build Model"
   ]
  },
  {
   "cell_type": "code",
   "execution_count": 17,
   "metadata": {
    "scrolled": true
   },
   "outputs": [
    {
     "name": "stdout",
     "output_type": "stream",
     "text": [
      "Copying state\n",
      "Model id #1526069306\n"
     ]
    }
   ],
   "source": [
    "# Symbol for start decode process.\n",
    "tgt_sos_id = customersupport.common.utils.START\n",
    "\n",
    "# Symbol for end of decode process.\n",
    "tgt_eos_id = customersupport.common.utils.PAD\n",
    "\n",
    "# For debug purpose.\n",
    "tf.reset_default_graph()\n",
    "\n",
    "# We should specify maximum_iterations, it can't stop otherwise.\n",
    "# maximum_iterations = tf.round(tf.reduce_max(hparams.decoder_length))\n",
    "\n",
    "# Encoder\n",
    "#   encoder_inputs: [encoder_length, batch_size]\n",
    "#   This is time major where encoder_length comes first instead of batch_size.\n",
    "\n",
    "beam_width_tensor = tf.placeholder(\n",
    "    tf.int32, shape=(), name=\"beam_width\")\n",
    "\n",
    "batch_size_tensor = tf.placeholder(\n",
    "    tf.int32, shape=(), name=\"batch_size\")\n",
    "\n",
    "keep_prob = tf.placeholder_with_default(1.0, shape=())\n",
    "\n",
    "encoder_inputs = tf.placeholder(\n",
    "    tf.int32, shape=(None, None), name=\"encoder_inputs\")\n",
    "\n",
    "source_sequence_length = tf.placeholder(tf.int32, [None], name=\"encoder_lengths\")\n",
    "\n",
    "# We should specify maximum_iterations, it can't stop otherwise.\n",
    "maximum_iterations = tf.round(tf.reduce_max(source_sequence_length) * 2)\n",
    "\n",
    "tiled_sequence_length = tf.contrib.seq2seq.tile_batch(\n",
    "    source_sequence_length, multiplier=beam_width_tensor)\n",
    "\n",
    "if (hparams.use_glove):\n",
    "    # define the word embedding\n",
    "    pretrained_embs = tf.get_variable(\n",
    "        name=\"embs_pretrained\",\n",
    "        initializer=tf.constant_initializer(\n",
    "           voc_holder.glove_weights, dtype=tf.float32),\n",
    "        shape=voc_holder.glove_weights.shape,\n",
    "        trainable=False)\n",
    "\n",
    "# Look up embedding:\n",
    "#   encoder_inputs: [encoder_length, batch_size]\n",
    "#   encoder_emb_inputs: [encoder_length, batch_size, embedding_size]\n",
    "if (hparams.use_glove):\n",
    "    encoder_emb_inputs, embedding_encoder = embed_tensor(encoder_inputs, pretrained_embs, \"embedding_encoder_glove\")\n",
    "else:\n",
    "    # Embedding\n",
    "    #   Matrix for embedding: [src_vocab_size, embedding_size]\n",
    "    embedding_encoder = tf.get_variable(\n",
    "        \"embedding_encoder\", [hparams.src_vocab_size, hparams.embedding_size])\n",
    "    encoder_emb_inputs = tf.nn.embedding_lookup(embedding_encoder, encoder_inputs)\n",
    "\n",
    "if (hparams.cell_type == 'bi'):\n",
    "    num_bi_layers = max(hparams.enc_num_layers // 2, 1)\n",
    "\n",
    "    # LSTM cell.\n",
    "    # Construct forward and backward cells\n",
    "    fw_cell = build_rnn_cell(hparams.num_units, keep_prob, layers = num_bi_layers)\n",
    "    bw_cell = build_rnn_cell(hparams.num_units, keep_prob, layers = num_bi_layers)\n",
    "\n",
    "    bi_outputs, bi_encoder_state = tf.nn.bidirectional_dynamic_rnn(\n",
    "        fw_cell, bw_cell, encoder_emb_inputs,\n",
    "        sequence_length=source_sequence_length, time_major=False, dtype=tf.float32)\n",
    "    encoder_outputs = tf.concat(bi_outputs, -1)\n",
    "    \n",
    "    if num_bi_layers == 1:\n",
    "        encoder_state = bi_encoder_state\n",
    "    else:\n",
    "        # alternatively concat forward and backward states\n",
    "        encoder_state = []\n",
    "        for layer_id in range(num_bi_layers):\n",
    "            encoder_state.append(bi_encoder_state[0][layer_id])  # forward\n",
    "            encoder_state.append(bi_encoder_state[1][layer_id])  # backward\n",
    "\n",
    "    encoder_state = tuple(encoder_state)\n",
    "else:\n",
    "    fw_cell = build_rnn_cell(hparams.num_units, keep_prob, layers = hparams.enc_num_layers)\n",
    "\n",
    "    # Run Dynamic RNN\n",
    "    #   encoder_outputs: [encoder_length, batch_size, num_units]\n",
    "    #   encoder_state: [batch_size, num_units], this is final state of the cell for each batch.\n",
    "    encoder_outputs, encoder_state = tf.nn.dynamic_rnn(\n",
    "        fw_cell, encoder_emb_inputs, time_major=False, \n",
    "        sequence_length= source_sequence_length, \n",
    "        dtype=tf.float32)\n",
    "\n",
    "encoder_outputs = tf.contrib.seq2seq.tile_batch(encoder_outputs, beam_width_tensor)\n",
    "encoder_state = tf.contrib.seq2seq.tile_batch(encoder_state, beam_width_tensor)\n",
    "    \n",
    "decoder_inputs = tf.placeholder(\n",
    "    tf.int32, shape=(hparams.decoder_length + 1, None), name=\"decoder_inputs\")\n",
    "decoder_lengths = tf.placeholder(\n",
    "    tf.int32, shape=[None], name=\"decoder_lengths\")\n",
    "\n",
    "if (hparams.use_glove):\n",
    "    decoder_emb_inputs, embedding_decoder  = embed_tensor(decoder_inputs, pretrained_embs, \"embedding_decoder_glove\")\n",
    "else:\n",
    "    embedding_decoder = tf.get_variable(\n",
    "        \"embedding_decoder\", [hparams.tgt_vocab_size, hparams.embedding_size])\n",
    "    decoder_emb_inputs = tf.nn.embedding_lookup(embedding_decoder, decoder_inputs)\n",
    "\n",
    "projection_layer = layers_core.Dense(hparams.tgt_vocab_size, use_bias=False)\n",
    "\n",
    "decoder_cell = build_rnn_cell(hparams.num_units, keep_prob, layers=hparams.dec_num_layers)\n",
    "if hparams.use_attention:\n",
    "\n",
    "    # Attention\n",
    "    # attention_states: [batch_size, max_time, num_units]\n",
    "    attention_states = encoder_outputs#tf.transpose(encoder_outputs, [1, 0, 2])\n",
    "    \n",
    "#     attention_states = tf.contrib.seq2seq.tile_batch(attention_states,\n",
    "#                                                      beam_width_tensor)\n",
    "\n",
    "    # Create an attention mechanism\n",
    "    #BahdanauAttention normalize=True\n",
    "    attention_mechanism = tf.contrib.seq2seq.LuongAttention(\n",
    "        hparams.num_units,\n",
    "        attention_states,\n",
    "        memory_sequence_length=tiled_sequence_length,\n",
    "        scale=True)\n",
    "\n",
    "    decoder_cell = tf.contrib.seq2seq.AttentionWrapper(\n",
    "        decoder_cell,\n",
    "        attention_mechanism,\n",
    "        attention_layer_size=hparams.num_units) \n",
    "\n",
    "# if (isinstance(encoder_state, tf.Tensor) or (not hparams.use_attention)):\n",
    "#     print('Using encoder state')\n",
    "#     initial_state = encoder_state\n",
    "# else:\n",
    "#     initial_state = decoder_cell.zero_state(batch_size_tensor * beam_width_tensor, tf.float32)\n",
    "#     if (hparams.dec_num_layers == hparams.enc_num_layers) and (hparams.use_attention):\n",
    "#         print('Copying state')\n",
    "#         initial_state = initial_state.clone(cell_state=encoder_state)\n",
    "        \n",
    "initial_state = decoder_cell.zero_state(batch_size_tensor * beam_width_tensor, tf.float32)\n",
    "if (hparams.dec_num_layers == hparams.enc_num_layers) and (hparams.use_attention):\n",
    "    print('Copying state')\n",
    "    initial_state = initial_state.clone(cell_state=encoder_state)\n",
    "\n",
    "# Helper\n",
    "helper = tf.contrib.seq2seq.TrainingHelper(\n",
    "    decoder_emb_inputs, tf.ones(batch_size_tensor, tf.int32) * hparams.decoder_length, time_major=True)\n",
    "\n",
    "# Decoder\n",
    "decoder = tf.contrib.seq2seq.BasicDecoder(\n",
    "    decoder_cell, helper, initial_state)\n",
    "    #output_layer=projection_layer)\n",
    "# Dynamic decoding\n",
    "final_outputs, _final_state, _final_sequence_lengths = tf.contrib.seq2seq.dynamic_decode(\n",
    "    decoder, maximum_iterations=maximum_iterations)\n",
    "\n",
    "logits = projection_layer(final_outputs.rnn_output)\n",
    "\n",
    "target_labels = tf.placeholder(tf.int32, shape=(None, hparams.decoder_length))\n",
    "\n",
    "# Masking weights\n",
    "target_weights = tf.placeholder(\n",
    "    tf.float32, shape=(None, hparams.decoder_length), name=\"target_weights\")\n",
    "\n",
    "# Loss\n",
    "crossent = tf.nn.sparse_softmax_cross_entropy_with_logits(\n",
    "    labels=target_labels, logits=logits)\n",
    "\n",
    "accuracy = tf.reduce_mean(\n",
    "     tf.divide(\n",
    "         tf.reduce_sum(tf.cast(tf.equal(tf.cast(tf.argmax(logits, 2), tf.int32), target_labels), tf.float32) * target_weights, 1),\n",
    "         tf.cast(decoder_lengths, tf.float32)\n",
    "     ),\n",
    "     name='acc')\n",
    "\n",
    "train_loss = (tf.reduce_sum(crossent * target_weights) /\n",
    "    tf.cast(batch_size_tensor, tf.float32))\n",
    "\n",
    "#perplexity = tf.exp(train_loss )\n",
    "\n",
    "#need masking target_weights\n",
    "# train_loss = tf.reduce_sum(tf.reduce_sum(crossent * target_weights, 1) / \n",
    "#                   tf.cast(decoder_lengths, tf.float32)) / tf.cast(batch_size_tensor, tf.float32)\n",
    "\n",
    "l2 = hparams.l2_reg * sum(\n",
    "    tf.nn.l2_loss(tf_var)\n",
    "        for tf_var in tf.trainable_variables()\n",
    "        if not (\"noreg\" in tf_var.name or \"bias\" in tf_var.name)\n",
    ")\n",
    "train_loss += l2\n",
    "\n",
    "# Train\n",
    "global_step = tf.Variable(0, name='global_step', trainable=False)\n",
    "\n",
    "# Calculate and clip gradients\n",
    "params = tf.trainable_variables()\n",
    "gradients = tf.gradients(train_loss, params)\n",
    "clipped_gradients, _ = tf.clip_by_global_norm(gradients,\n",
    "                                              hparams.max_gradient_norm)\n",
    "\n",
    "iters_per_epoch = int(np.ceil(train_x.shape[0] / hparams.batch_size))\n",
    "\n",
    "# Optimization\n",
    "learning_rate = tf.train.exponential_decay(\n",
    "    hparams.learning_rate, global_step, iters_per_epoch, .99, staircase=True)\n",
    "#learning_rate = tf.Variable(1., dtype=np.float32)\n",
    "\n",
    "optimizer = tf.train.AdamOptimizer(learning_rate)\n",
    "#optimizer = tf.train.GradientDescentOptimizer(learning_rate)\n",
    "train_op = optimizer.apply_gradients(\n",
    "    zip(clipped_gradients, params), global_step=global_step)\n",
    "\n",
    "beam_translations = beam_search_decoder(hparams.beam_width)\n",
    "greedy_translations = greedy_decoder()\n",
    "\n",
    "sess = tf.Session()\n",
    "sess.run(tf.global_variables_initializer())\n",
    "\n",
    "tf.summary.scalar('cross_entropy', train_loss)\n",
    "tf.summary.scalar('accuracy', accuracy)\n",
    "\n",
    "# Merge all the summaries and write them out to /tmp/mnist_logs (by default)\n",
    "merged = tf.summary.merge_all()\n",
    "now = str(int(datetime.now().timestamp()))\n",
    "summaries_dir = './logs'\n",
    "train_writer = tf.summary.FileWriter(summaries_dir + '/train' + now,\n",
    "                                      sess.graph)\n",
    "test_writer = tf.summary.FileWriter(summaries_dir + '/test' + now)\n",
    "print('Model id #{}'.format(now))\n",
    "\n",
    "eval_conf = get_evaluation_conf(sess, hparams, beam_translations, train_loss, voc_holder)\n",
    "eval_conf_greedy = get_evaluation_conf(sess, hparams, greedy_translations, train_loss, voc_holder)\n",
    "eval_conf_greedy.beam_width = 1"
   ]
  },
  {
   "cell_type": "markdown",
   "metadata": {},
   "source": [
    "# Train Model"
   ]
  },
  {
   "cell_type": "code",
   "execution_count": 18,
   "metadata": {
    "scrolled": true
   },
   "outputs": [
    {
     "name": "stdout",
     "output_type": "stream",
     "text": [
      "\n",
      "Starting epoch = 1/17\n"
     ]
    },
    {
     "data": {
      "application/vnd.jupyter.widget-view+json": {
       "model_id": "9f118598e8e34b55b1015ce82d8c2635",
       "version_major": 2,
       "version_minor": 0
      },
      "text/html": [
       "<p>Failed to display Jupyter Widget of type <code>HBox</code>.</p>\n",
       "<p>\n",
       "  If you're reading this message in the Jupyter Notebook or JupyterLab Notebook, it may mean\n",
       "  that the widgets JavaScript is still loading. If this message persists, it\n",
       "  likely means that the widgets JavaScript library is either not installed or\n",
       "  not enabled. See the <a href=\"https://ipywidgets.readthedocs.io/en/stable/user_install.html\">Jupyter\n",
       "  Widgets Documentation</a> for setup instructions.\n",
       "</p>\n",
       "<p>\n",
       "  If you're reading this message in another frontend (for example, a static\n",
       "  rendering on GitHub or <a href=\"https://nbviewer.jupyter.org/\">NBViewer</a>),\n",
       "  it may mean that your frontend doesn't currently support widgets.\n",
       "</p>\n"
      ],
      "text/plain": [
       "HBox(children=(IntProgress(value=0, max=357), HTML(value='')))"
      ]
     },
     "metadata": {},
     "output_type": "display_data"
    },
    {
     "name": "stdout",
     "output_type": "stream",
     "text": [
      "\n"
     ]
    },
    {
     "name": "stderr",
     "output_type": "stream",
     "text": [
      "Exception in thread Thread-47:\n",
      "Traceback (most recent call last):\n",
      "  File \"/usr/lib/python3.5/threading.py\", line 914, in _bootstrap_inner\n",
      "    self.run()\n",
      "  File \"/home/momchil/.local/lib/python3.5/site-packages/tqdm/_tqdm.py\", line 148, in run\n",
      "    for instance in self.tqdm_cls._instances:\n",
      "  File \"/usr/lib/python3.5/_weakrefset.py\", line 60, in __iter__\n",
      "    for itemref in self.data:\n",
      "RuntimeError: Set changed size during iteration\n",
      "\n"
     ]
    },
    {
     "name": "stdout",
     "output_type": "stream",
     "text": [
      "\n"
     ]
    },
    {
     "data": {
      "application/vnd.jupyter.widget-view+json": {
       "model_id": "ff4c213285484478870e64b0e90294a5",
       "version_major": 2,
       "version_minor": 0
      },
      "text/html": [
       "<p>Failed to display Jupyter Widget of type <code>HBox</code>.</p>\n",
       "<p>\n",
       "  If you're reading this message in the Jupyter Notebook or JupyterLab Notebook, it may mean\n",
       "  that the widgets JavaScript is still loading. If this message persists, it\n",
       "  likely means that the widgets JavaScript library is either not installed or\n",
       "  not enabled. See the <a href=\"https://ipywidgets.readthedocs.io/en/stable/user_install.html\">Jupyter\n",
       "  Widgets Documentation</a> for setup instructions.\n",
       "</p>\n",
       "<p>\n",
       "  If you're reading this message in another frontend (for example, a static\n",
       "  rendering on GitHub or <a href=\"https://nbviewer.jupyter.org/\">NBViewer</a>),\n",
       "  it may mean that your frontend doesn't currently support widgets.\n",
       "</p>\n"
      ],
      "text/plain": [
       "HBox(children=(IntProgress(value=0, max=32), HTML(value='')))"
      ]
     },
     "metadata": {},
     "output_type": "display_data"
    },
    {
     "name": "stdout",
     "output_type": "stream",
     "text": [
      "\n",
      "BLEU@2: 6.734936370904081\n",
      "Embedding Average: 71.36117094183916\n",
      "Greedy Matching: 38.192049224850706\n",
      "Loss: 144.56161499023438\n",
      "Perplexity: 7.886606401326258\n",
      "ROUGE_L: 20.61805235803959\n",
      "Train Loss: 125.74945542792312\n",
      "Vector Extrema: 41.55740302136491\n",
      "\n",
      "Train elapsed 210.59386491775513, Test elapsed 23.697277307510376\n",
      "Updating lr = 0.0010000000474974513\n",
      "\n",
      "Starting epoch = 2/17\n"
     ]
    },
    {
     "data": {
      "application/vnd.jupyter.widget-view+json": {
       "model_id": "3c4a1c7635824deb97b143daf99c19a1",
       "version_major": 2,
       "version_minor": 0
      },
      "text/html": [
       "<p>Failed to display Jupyter Widget of type <code>HBox</code>.</p>\n",
       "<p>\n",
       "  If you're reading this message in the Jupyter Notebook or JupyterLab Notebook, it may mean\n",
       "  that the widgets JavaScript is still loading. If this message persists, it\n",
       "  likely means that the widgets JavaScript library is either not installed or\n",
       "  not enabled. See the <a href=\"https://ipywidgets.readthedocs.io/en/stable/user_install.html\">Jupyter\n",
       "  Widgets Documentation</a> for setup instructions.\n",
       "</p>\n",
       "<p>\n",
       "  If you're reading this message in another frontend (for example, a static\n",
       "  rendering on GitHub or <a href=\"https://nbviewer.jupyter.org/\">NBViewer</a>),\n",
       "  it may mean that your frontend doesn't currently support widgets.\n",
       "</p>\n"
      ],
      "text/plain": [
       "HBox(children=(IntProgress(value=0, max=357), HTML(value='')))"
      ]
     },
     "metadata": {},
     "output_type": "display_data"
    },
    {
     "name": "stdout",
     "output_type": "stream",
     "text": [
      "\n"
     ]
    },
    {
     "data": {
      "application/vnd.jupyter.widget-view+json": {
       "model_id": "cb08772c66f8422e93fcaf9b682186bb",
       "version_major": 2,
       "version_minor": 0
      },
      "text/html": [
       "<p>Failed to display Jupyter Widget of type <code>HBox</code>.</p>\n",
       "<p>\n",
       "  If you're reading this message in the Jupyter Notebook or JupyterLab Notebook, it may mean\n",
       "  that the widgets JavaScript is still loading. If this message persists, it\n",
       "  likely means that the widgets JavaScript library is either not installed or\n",
       "  not enabled. See the <a href=\"https://ipywidgets.readthedocs.io/en/stable/user_install.html\">Jupyter\n",
       "  Widgets Documentation</a> for setup instructions.\n",
       "</p>\n",
       "<p>\n",
       "  If you're reading this message in another frontend (for example, a static\n",
       "  rendering on GitHub or <a href=\"https://nbviewer.jupyter.org/\">NBViewer</a>),\n",
       "  it may mean that your frontend doesn't currently support widgets.\n",
       "</p>\n"
      ],
      "text/plain": [
       "HBox(children=(IntProgress(value=0, max=32), HTML(value='')))"
      ]
     },
     "metadata": {},
     "output_type": "display_data"
    },
    {
     "name": "stdout",
     "output_type": "stream",
     "text": [
      "\n",
      "BLEU@2: 8.014406117001169\n",
      "Embedding Average: 76.58771374155054\n",
      "Greedy Matching: 39.71720169043493\n",
      "Loss: 103.43438720703125\n",
      "Perplexity: 4.3825647087227715\n",
      "ROUGE_L: 23.764406942574734\n",
      "Train Loss: 82.62893427787375\n",
      "Vector Extrema: 48.971515603920544\n",
      "\n",
      "Train elapsed 206.6820878982544, Test elapsed 17.404669761657715\n",
      "Updating lr = 0.0009899999713525176\n",
      "\n",
      "Starting epoch = 3/17\n"
     ]
    },
    {
     "data": {
      "application/vnd.jupyter.widget-view+json": {
       "model_id": "7690742e33e14044bdfac16c5b9b164b",
       "version_major": 2,
       "version_minor": 0
      },
      "text/html": [
       "<p>Failed to display Jupyter Widget of type <code>HBox</code>.</p>\n",
       "<p>\n",
       "  If you're reading this message in the Jupyter Notebook or JupyterLab Notebook, it may mean\n",
       "  that the widgets JavaScript is still loading. If this message persists, it\n",
       "  likely means that the widgets JavaScript library is either not installed or\n",
       "  not enabled. See the <a href=\"https://ipywidgets.readthedocs.io/en/stable/user_install.html\">Jupyter\n",
       "  Widgets Documentation</a> for setup instructions.\n",
       "</p>\n",
       "<p>\n",
       "  If you're reading this message in another frontend (for example, a static\n",
       "  rendering on GitHub or <a href=\"https://nbviewer.jupyter.org/\">NBViewer</a>),\n",
       "  it may mean that your frontend doesn't currently support widgets.\n",
       "</p>\n"
      ],
      "text/plain": [
       "HBox(children=(IntProgress(value=0, max=357), HTML(value='')))"
      ]
     },
     "metadata": {},
     "output_type": "display_data"
    },
    {
     "name": "stdout",
     "output_type": "stream",
     "text": [
      "\n"
     ]
    },
    {
     "data": {
      "application/vnd.jupyter.widget-view+json": {
       "model_id": "a8d460cd200a4b2b94e4c316aa06897c",
       "version_major": 2,
       "version_minor": 0
      },
      "text/html": [
       "<p>Failed to display Jupyter Widget of type <code>HBox</code>.</p>\n",
       "<p>\n",
       "  If you're reading this message in the Jupyter Notebook or JupyterLab Notebook, it may mean\n",
       "  that the widgets JavaScript is still loading. If this message persists, it\n",
       "  likely means that the widgets JavaScript library is either not installed or\n",
       "  not enabled. See the <a href=\"https://ipywidgets.readthedocs.io/en/stable/user_install.html\">Jupyter\n",
       "  Widgets Documentation</a> for setup instructions.\n",
       "</p>\n",
       "<p>\n",
       "  If you're reading this message in another frontend (for example, a static\n",
       "  rendering on GitHub or <a href=\"https://nbviewer.jupyter.org/\">NBViewer</a>),\n",
       "  it may mean that your frontend doesn't currently support widgets.\n",
       "</p>\n"
      ],
      "text/plain": [
       "HBox(children=(IntProgress(value=0, max=32), HTML(value='')))"
      ]
     },
     "metadata": {},
     "output_type": "display_data"
    },
    {
     "name": "stdout",
     "output_type": "stream",
     "text": [
      "\n",
      "BLEU@2: 9.387033292530617\n",
      "Embedding Average: 77.71376239230598\n",
      "Greedy Matching: 40.32775039944428\n",
      "Loss: 89.69746398925781\n",
      "Perplexity: 3.6016509685231624\n",
      "ROUGE_L: 24.31787393978413\n",
      "Train Loss: 62.602888983504776\n",
      "Vector Extrema: 48.99612434279513\n",
      "\n",
      "Train elapsed 207.0902943611145, Test elapsed 17.549218893051147\n",
      "Updating lr = 0.000980100012384355\n",
      "\n",
      "Starting epoch = 4/17\n"
     ]
    },
    {
     "data": {
      "application/vnd.jupyter.widget-view+json": {
       "model_id": "d462addfc9334526930c201d196ed479",
       "version_major": 2,
       "version_minor": 0
      },
      "text/html": [
       "<p>Failed to display Jupyter Widget of type <code>HBox</code>.</p>\n",
       "<p>\n",
       "  If you're reading this message in the Jupyter Notebook or JupyterLab Notebook, it may mean\n",
       "  that the widgets JavaScript is still loading. If this message persists, it\n",
       "  likely means that the widgets JavaScript library is either not installed or\n",
       "  not enabled. See the <a href=\"https://ipywidgets.readthedocs.io/en/stable/user_install.html\">Jupyter\n",
       "  Widgets Documentation</a> for setup instructions.\n",
       "</p>\n",
       "<p>\n",
       "  If you're reading this message in another frontend (for example, a static\n",
       "  rendering on GitHub or <a href=\"https://nbviewer.jupyter.org/\">NBViewer</a>),\n",
       "  it may mean that your frontend doesn't currently support widgets.\n",
       "</p>\n"
      ],
      "text/plain": [
       "HBox(children=(IntProgress(value=0, max=357), HTML(value='')))"
      ]
     },
     "metadata": {},
     "output_type": "display_data"
    },
    {
     "name": "stdout",
     "output_type": "stream",
     "text": [
      "\n"
     ]
    },
    {
     "data": {
      "application/vnd.jupyter.widget-view+json": {
       "model_id": "d3bd90d31955499c96f1df17816ea897",
       "version_major": 2,
       "version_minor": 0
      },
      "text/html": [
       "<p>Failed to display Jupyter Widget of type <code>HBox</code>.</p>\n",
       "<p>\n",
       "  If you're reading this message in the Jupyter Notebook or JupyterLab Notebook, it may mean\n",
       "  that the widgets JavaScript is still loading. If this message persists, it\n",
       "  likely means that the widgets JavaScript library is either not installed or\n",
       "  not enabled. See the <a href=\"https://ipywidgets.readthedocs.io/en/stable/user_install.html\">Jupyter\n",
       "  Widgets Documentation</a> for setup instructions.\n",
       "</p>\n",
       "<p>\n",
       "  If you're reading this message in another frontend (for example, a static\n",
       "  rendering on GitHub or <a href=\"https://nbviewer.jupyter.org/\">NBViewer</a>),\n",
       "  it may mean that your frontend doesn't currently support widgets.\n",
       "</p>\n"
      ],
      "text/plain": [
       "HBox(children=(IntProgress(value=0, max=32), HTML(value='')))"
      ]
     },
     "metadata": {},
     "output_type": "display_data"
    },
    {
     "name": "stdout",
     "output_type": "stream",
     "text": [
      "\n",
      "BLEU@2: 11.156164947479486\n",
      "Embedding Average: 78.19213348322423\n",
      "Greedy Matching: 40.42366616936846\n",
      "Loss: 82.43254852294922\n",
      "Perplexity: 3.2465985102898935\n",
      "ROUGE_L: 24.596565453702375\n",
      "Train Loss: 55.45302851059858\n",
      "Vector Extrema: 48.62441515203047\n",
      "\n",
      "Train elapsed 206.56459426879883, Test elapsed 19.02873969078064\n",
      "Updating lr = 0.0009702990646474063\n",
      "\n",
      "Starting epoch = 5/17\n"
     ]
    },
    {
     "data": {
      "application/vnd.jupyter.widget-view+json": {
       "model_id": "10c63f8177ec4928bd8c149e627c4fef",
       "version_major": 2,
       "version_minor": 0
      },
      "text/html": [
       "<p>Failed to display Jupyter Widget of type <code>HBox</code>.</p>\n",
       "<p>\n",
       "  If you're reading this message in the Jupyter Notebook or JupyterLab Notebook, it may mean\n",
       "  that the widgets JavaScript is still loading. If this message persists, it\n",
       "  likely means that the widgets JavaScript library is either not installed or\n",
       "  not enabled. See the <a href=\"https://ipywidgets.readthedocs.io/en/stable/user_install.html\">Jupyter\n",
       "  Widgets Documentation</a> for setup instructions.\n",
       "</p>\n",
       "<p>\n",
       "  If you're reading this message in another frontend (for example, a static\n",
       "  rendering on GitHub or <a href=\"https://nbviewer.jupyter.org/\">NBViewer</a>),\n",
       "  it may mean that your frontend doesn't currently support widgets.\n",
       "</p>\n"
      ],
      "text/plain": [
       "HBox(children=(IntProgress(value=0, max=357), HTML(value='')))"
      ]
     },
     "metadata": {},
     "output_type": "display_data"
    },
    {
     "name": "stdout",
     "output_type": "stream",
     "text": [
      "\n"
     ]
    },
    {
     "data": {
      "application/vnd.jupyter.widget-view+json": {
       "model_id": "84f7638f0bf14148bea9a2a6e0683bc5",
       "version_major": 2,
       "version_minor": 0
      },
      "text/html": [
       "<p>Failed to display Jupyter Widget of type <code>HBox</code>.</p>\n",
       "<p>\n",
       "  If you're reading this message in the Jupyter Notebook or JupyterLab Notebook, it may mean\n",
       "  that the widgets JavaScript is still loading. If this message persists, it\n",
       "  likely means that the widgets JavaScript library is either not installed or\n",
       "  not enabled. See the <a href=\"https://ipywidgets.readthedocs.io/en/stable/user_install.html\">Jupyter\n",
       "  Widgets Documentation</a> for setup instructions.\n",
       "</p>\n",
       "<p>\n",
       "  If you're reading this message in another frontend (for example, a static\n",
       "  rendering on GitHub or <a href=\"https://nbviewer.jupyter.org/\">NBViewer</a>),\n",
       "  it may mean that your frontend doesn't currently support widgets.\n",
       "</p>\n"
      ],
      "text/plain": [
       "HBox(children=(IntProgress(value=0, max=32), HTML(value='')))"
      ]
     },
     "metadata": {},
     "output_type": "display_data"
    },
    {
     "name": "stdout",
     "output_type": "stream",
     "text": [
      "\n",
      "BLEU@2: 10.949134346478772\n",
      "Embedding Average: 78.91276213030139\n",
      "Greedy Matching: 40.821369162861366\n",
      "Loss: 79.88994598388672\n",
      "Perplexity: 3.130788665517674\n",
      "ROUGE_L: 25.016432557946377\n",
      "Train Loss: 51.634632030455\n",
      "Vector Extrema: 48.70010392030795\n",
      "\n",
      "Train elapsed 206.41987133026123, Test elapsed 18.057451963424683\n",
      "Updating lr = 0.000960596080403775\n",
      "\n",
      "Starting epoch = 6/17\n"
     ]
    },
    {
     "data": {
      "application/vnd.jupyter.widget-view+json": {
       "model_id": "bd31f89b99cc45b2902c83fa54ede27c",
       "version_major": 2,
       "version_minor": 0
      },
      "text/html": [
       "<p>Failed to display Jupyter Widget of type <code>HBox</code>.</p>\n",
       "<p>\n",
       "  If you're reading this message in the Jupyter Notebook or JupyterLab Notebook, it may mean\n",
       "  that the widgets JavaScript is still loading. If this message persists, it\n",
       "  likely means that the widgets JavaScript library is either not installed or\n",
       "  not enabled. See the <a href=\"https://ipywidgets.readthedocs.io/en/stable/user_install.html\">Jupyter\n",
       "  Widgets Documentation</a> for setup instructions.\n",
       "</p>\n",
       "<p>\n",
       "  If you're reading this message in another frontend (for example, a static\n",
       "  rendering on GitHub or <a href=\"https://nbviewer.jupyter.org/\">NBViewer</a>),\n",
       "  it may mean that your frontend doesn't currently support widgets.\n",
       "</p>\n"
      ],
      "text/plain": [
       "HBox(children=(IntProgress(value=0, max=357), HTML(value='')))"
      ]
     },
     "metadata": {},
     "output_type": "display_data"
    },
    {
     "name": "stdout",
     "output_type": "stream",
     "text": [
      "\n"
     ]
    },
    {
     "data": {
      "application/vnd.jupyter.widget-view+json": {
       "model_id": "163a817d0d1d4e688a7ba56a6f8ac9d7",
       "version_major": 2,
       "version_minor": 0
      },
      "text/html": [
       "<p>Failed to display Jupyter Widget of type <code>HBox</code>.</p>\n",
       "<p>\n",
       "  If you're reading this message in the Jupyter Notebook or JupyterLab Notebook, it may mean\n",
       "  that the widgets JavaScript is still loading. If this message persists, it\n",
       "  likely means that the widgets JavaScript library is either not installed or\n",
       "  not enabled. See the <a href=\"https://ipywidgets.readthedocs.io/en/stable/user_install.html\">Jupyter\n",
       "  Widgets Documentation</a> for setup instructions.\n",
       "</p>\n",
       "<p>\n",
       "  If you're reading this message in another frontend (for example, a static\n",
       "  rendering on GitHub or <a href=\"https://nbviewer.jupyter.org/\">NBViewer</a>),\n",
       "  it may mean that your frontend doesn't currently support widgets.\n",
       "</p>\n"
      ],
      "text/plain": [
       "HBox(children=(IntProgress(value=0, max=32), HTML(value='')))"
      ]
     },
     "metadata": {},
     "output_type": "display_data"
    },
    {
     "name": "stdout",
     "output_type": "stream",
     "text": [
      "\n",
      "BLEU@2: 11.345475935970523\n",
      "Embedding Average: 77.95902015875058\n",
      "Greedy Matching: 40.68851534548782\n",
      "Loss: 76.70938110351562\n",
      "Perplexity: 2.9917194873192074\n",
      "ROUGE_L: 25.49252540260104\n",
      "Train Loss: 49.194510318318\n",
      "Vector Extrema: 49.32189093145774\n",
      "\n",
      "Train elapsed 206.55462050437927, Test elapsed 18.93792152404785\n",
      "Updating lr = 0.0009509901283308864\n",
      "\n",
      "Starting epoch = 7/17\n"
     ]
    },
    {
     "data": {
      "application/vnd.jupyter.widget-view+json": {
       "model_id": "5e5a5c87ba894831beeb1987df0b085d",
       "version_major": 2,
       "version_minor": 0
      },
      "text/html": [
       "<p>Failed to display Jupyter Widget of type <code>HBox</code>.</p>\n",
       "<p>\n",
       "  If you're reading this message in the Jupyter Notebook or JupyterLab Notebook, it may mean\n",
       "  that the widgets JavaScript is still loading. If this message persists, it\n",
       "  likely means that the widgets JavaScript library is either not installed or\n",
       "  not enabled. See the <a href=\"https://ipywidgets.readthedocs.io/en/stable/user_install.html\">Jupyter\n",
       "  Widgets Documentation</a> for setup instructions.\n",
       "</p>\n",
       "<p>\n",
       "  If you're reading this message in another frontend (for example, a static\n",
       "  rendering on GitHub or <a href=\"https://nbviewer.jupyter.org/\">NBViewer</a>),\n",
       "  it may mean that your frontend doesn't currently support widgets.\n",
       "</p>\n"
      ],
      "text/plain": [
       "HBox(children=(IntProgress(value=0, max=357), HTML(value='')))"
      ]
     },
     "metadata": {},
     "output_type": "display_data"
    },
    {
     "name": "stdout",
     "output_type": "stream",
     "text": [
      "\n"
     ]
    },
    {
     "data": {
      "application/vnd.jupyter.widget-view+json": {
       "model_id": "654ef39108ce40628729971e34ee7098",
       "version_major": 2,
       "version_minor": 0
      },
      "text/html": [
       "<p>Failed to display Jupyter Widget of type <code>HBox</code>.</p>\n",
       "<p>\n",
       "  If you're reading this message in the Jupyter Notebook or JupyterLab Notebook, it may mean\n",
       "  that the widgets JavaScript is still loading. If this message persists, it\n",
       "  likely means that the widgets JavaScript library is either not installed or\n",
       "  not enabled. See the <a href=\"https://ipywidgets.readthedocs.io/en/stable/user_install.html\">Jupyter\n",
       "  Widgets Documentation</a> for setup instructions.\n",
       "</p>\n",
       "<p>\n",
       "  If you're reading this message in another frontend (for example, a static\n",
       "  rendering on GitHub or <a href=\"https://nbviewer.jupyter.org/\">NBViewer</a>),\n",
       "  it may mean that your frontend doesn't currently support widgets.\n",
       "</p>\n"
      ],
      "text/plain": [
       "HBox(children=(IntProgress(value=0, max=32), HTML(value='')))"
      ]
     },
     "metadata": {},
     "output_type": "display_data"
    },
    {
     "name": "stdout",
     "output_type": "stream",
     "text": [
      "\n",
      "BLEU@2: 10.793524242086432\n",
      "Embedding Average: 77.6013025611099\n",
      "Greedy Matching: 40.57399973249144\n",
      "Loss: 74.96771240234375\n",
      "Perplexity: 2.9182009693844626\n",
      "ROUGE_L: 24.994068593588807\n",
      "Train Loss: 47.33728663660899\n",
      "Vector Extrema: 48.23186020327654\n",
      "\n",
      "Train elapsed 206.44319224357605, Test elapsed 18.22415781021118\n",
      "Updating lr = 0.0009414802771061659\n",
      "\n",
      "Starting epoch = 8/17\n"
     ]
    },
    {
     "data": {
      "application/vnd.jupyter.widget-view+json": {
       "model_id": "95a31fb6ecdd440ba03b4c17d607d687",
       "version_major": 2,
       "version_minor": 0
      },
      "text/html": [
       "<p>Failed to display Jupyter Widget of type <code>HBox</code>.</p>\n",
       "<p>\n",
       "  If you're reading this message in the Jupyter Notebook or JupyterLab Notebook, it may mean\n",
       "  that the widgets JavaScript is still loading. If this message persists, it\n",
       "  likely means that the widgets JavaScript library is either not installed or\n",
       "  not enabled. See the <a href=\"https://ipywidgets.readthedocs.io/en/stable/user_install.html\">Jupyter\n",
       "  Widgets Documentation</a> for setup instructions.\n",
       "</p>\n",
       "<p>\n",
       "  If you're reading this message in another frontend (for example, a static\n",
       "  rendering on GitHub or <a href=\"https://nbviewer.jupyter.org/\">NBViewer</a>),\n",
       "  it may mean that your frontend doesn't currently support widgets.\n",
       "</p>\n"
      ],
      "text/plain": [
       "HBox(children=(IntProgress(value=0, max=357), HTML(value='')))"
      ]
     },
     "metadata": {},
     "output_type": "display_data"
    },
    {
     "name": "stdout",
     "output_type": "stream",
     "text": [
      "\n"
     ]
    },
    {
     "data": {
      "application/vnd.jupyter.widget-view+json": {
       "model_id": "31969477a21a4511be67ef51b991b0ee",
       "version_major": 2,
       "version_minor": 0
      },
      "text/html": [
       "<p>Failed to display Jupyter Widget of type <code>HBox</code>.</p>\n",
       "<p>\n",
       "  If you're reading this message in the Jupyter Notebook or JupyterLab Notebook, it may mean\n",
       "  that the widgets JavaScript is still loading. If this message persists, it\n",
       "  likely means that the widgets JavaScript library is either not installed or\n",
       "  not enabled. See the <a href=\"https://ipywidgets.readthedocs.io/en/stable/user_install.html\">Jupyter\n",
       "  Widgets Documentation</a> for setup instructions.\n",
       "</p>\n",
       "<p>\n",
       "  If you're reading this message in another frontend (for example, a static\n",
       "  rendering on GitHub or <a href=\"https://nbviewer.jupyter.org/\">NBViewer</a>),\n",
       "  it may mean that your frontend doesn't currently support widgets.\n",
       "</p>\n"
      ],
      "text/plain": [
       "HBox(children=(IntProgress(value=0, max=32), HTML(value='')))"
      ]
     },
     "metadata": {},
     "output_type": "display_data"
    },
    {
     "name": "stdout",
     "output_type": "stream",
     "text": [
      "\n",
      "BLEU@2: 10.94534693416668\n",
      "Embedding Average: 78.48049316734283\n",
      "Greedy Matching: 40.55088853066457\n",
      "Loss: 73.16242980957031\n",
      "Perplexity: 2.8439034670841115\n",
      "ROUGE_L: 25.00143608373592\n",
      "Train Loss: 45.83620286188206\n",
      "Vector Extrema: 48.44196627668871\n",
      "\n",
      "Train elapsed 206.41554045677185, Test elapsed 18.08397889137268\n",
      "Updating lr = 0.0009320654789917171\n",
      "\n",
      "Starting epoch = 9/17\n"
     ]
    },
    {
     "data": {
      "application/vnd.jupyter.widget-view+json": {
       "model_id": "700faa4caabd4593bfa6516b42856c81",
       "version_major": 2,
       "version_minor": 0
      },
      "text/html": [
       "<p>Failed to display Jupyter Widget of type <code>HBox</code>.</p>\n",
       "<p>\n",
       "  If you're reading this message in the Jupyter Notebook or JupyterLab Notebook, it may mean\n",
       "  that the widgets JavaScript is still loading. If this message persists, it\n",
       "  likely means that the widgets JavaScript library is either not installed or\n",
       "  not enabled. See the <a href=\"https://ipywidgets.readthedocs.io/en/stable/user_install.html\">Jupyter\n",
       "  Widgets Documentation</a> for setup instructions.\n",
       "</p>\n",
       "<p>\n",
       "  If you're reading this message in another frontend (for example, a static\n",
       "  rendering on GitHub or <a href=\"https://nbviewer.jupyter.org/\">NBViewer</a>),\n",
       "  it may mean that your frontend doesn't currently support widgets.\n",
       "</p>\n"
      ],
      "text/plain": [
       "HBox(children=(IntProgress(value=0, max=357), HTML(value='')))"
      ]
     },
     "metadata": {},
     "output_type": "display_data"
    },
    {
     "name": "stdout",
     "output_type": "stream",
     "text": [
      "\n"
     ]
    },
    {
     "data": {
      "application/vnd.jupyter.widget-view+json": {
       "model_id": "b00fdd73d69544f28ddc9f943f4ebdb1",
       "version_major": 2,
       "version_minor": 0
      },
      "text/html": [
       "<p>Failed to display Jupyter Widget of type <code>HBox</code>.</p>\n",
       "<p>\n",
       "  If you're reading this message in the Jupyter Notebook or JupyterLab Notebook, it may mean\n",
       "  that the widgets JavaScript is still loading. If this message persists, it\n",
       "  likely means that the widgets JavaScript library is either not installed or\n",
       "  not enabled. See the <a href=\"https://ipywidgets.readthedocs.io/en/stable/user_install.html\">Jupyter\n",
       "  Widgets Documentation</a> for setup instructions.\n",
       "</p>\n",
       "<p>\n",
       "  If you're reading this message in another frontend (for example, a static\n",
       "  rendering on GitHub or <a href=\"https://nbviewer.jupyter.org/\">NBViewer</a>),\n",
       "  it may mean that your frontend doesn't currently support widgets.\n",
       "</p>\n"
      ],
      "text/plain": [
       "HBox(children=(IntProgress(value=0, max=32), HTML(value='')))"
      ]
     },
     "metadata": {},
     "output_type": "display_data"
    },
    {
     "name": "stdout",
     "output_type": "stream",
     "text": [
      "\n",
      "BLEU@2: 11.455147143867126\n",
      "Embedding Average: 79.3935233979286\n",
      "Greedy Matching: 40.822929892443774\n",
      "Loss: 72.30715942382812\n",
      "Perplexity: 2.809367644117867\n",
      "ROUGE_L: 25.22393059318991\n",
      "Train Loss: 44.650939455219344\n",
      "Vector Extrema: 48.37134309376603\n",
      "\n",
      "Train elapsed 206.62694144248962, Test elapsed 18.43836998939514\n",
      "Updating lr = 0.0009227448026649654\n",
      "\n",
      "Starting epoch = 10/17\n"
     ]
    },
    {
     "data": {
      "application/vnd.jupyter.widget-view+json": {
       "model_id": "810ff75ce2a04c3a8e1d4eeed403f2ec",
       "version_major": 2,
       "version_minor": 0
      },
      "text/html": [
       "<p>Failed to display Jupyter Widget of type <code>HBox</code>.</p>\n",
       "<p>\n",
       "  If you're reading this message in the Jupyter Notebook or JupyterLab Notebook, it may mean\n",
       "  that the widgets JavaScript is still loading. If this message persists, it\n",
       "  likely means that the widgets JavaScript library is either not installed or\n",
       "  not enabled. See the <a href=\"https://ipywidgets.readthedocs.io/en/stable/user_install.html\">Jupyter\n",
       "  Widgets Documentation</a> for setup instructions.\n",
       "</p>\n",
       "<p>\n",
       "  If you're reading this message in another frontend (for example, a static\n",
       "  rendering on GitHub or <a href=\"https://nbviewer.jupyter.org/\">NBViewer</a>),\n",
       "  it may mean that your frontend doesn't currently support widgets.\n",
       "</p>\n"
      ],
      "text/plain": [
       "HBox(children=(IntProgress(value=0, max=357), HTML(value='')))"
      ]
     },
     "metadata": {},
     "output_type": "display_data"
    },
    {
     "name": "stdout",
     "output_type": "stream",
     "text": [
      "\n"
     ]
    },
    {
     "data": {
      "application/vnd.jupyter.widget-view+json": {
       "model_id": "66b706e0b241462685699724291d7739",
       "version_major": 2,
       "version_minor": 0
      },
      "text/html": [
       "<p>Failed to display Jupyter Widget of type <code>HBox</code>.</p>\n",
       "<p>\n",
       "  If you're reading this message in the Jupyter Notebook or JupyterLab Notebook, it may mean\n",
       "  that the widgets JavaScript is still loading. If this message persists, it\n",
       "  likely means that the widgets JavaScript library is either not installed or\n",
       "  not enabled. See the <a href=\"https://ipywidgets.readthedocs.io/en/stable/user_install.html\">Jupyter\n",
       "  Widgets Documentation</a> for setup instructions.\n",
       "</p>\n",
       "<p>\n",
       "  If you're reading this message in another frontend (for example, a static\n",
       "  rendering on GitHub or <a href=\"https://nbviewer.jupyter.org/\">NBViewer</a>),\n",
       "  it may mean that your frontend doesn't currently support widgets.\n",
       "</p>\n"
      ],
      "text/plain": [
       "HBox(children=(IntProgress(value=0, max=32), HTML(value='')))"
      ]
     },
     "metadata": {},
     "output_type": "display_data"
    },
    {
     "name": "stdout",
     "output_type": "stream",
     "text": [
      "\n",
      "BLEU@2: 11.164935861900052\n",
      "Embedding Average: 78.48425197069714\n",
      "Greedy Matching: 40.80788241388647\n",
      "Loss: 72.08956909179688\n",
      "Perplexity: 2.800648470644857\n",
      "ROUGE_L: 25.399972128554865\n",
      "Train Loss: 43.56493291133592\n",
      "Vector Extrema: 48.577298379930475\n",
      "\n",
      "Train elapsed 206.45836901664734, Test elapsed 18.351436376571655\n",
      "Updating lr = 0.0009135173750109971\n",
      "\n",
      "Starting epoch = 11/17\n"
     ]
    },
    {
     "data": {
      "application/vnd.jupyter.widget-view+json": {
       "model_id": "95fefc21c8bc4b07936dc95ea916b821",
       "version_major": 2,
       "version_minor": 0
      },
      "text/html": [
       "<p>Failed to display Jupyter Widget of type <code>HBox</code>.</p>\n",
       "<p>\n",
       "  If you're reading this message in the Jupyter Notebook or JupyterLab Notebook, it may mean\n",
       "  that the widgets JavaScript is still loading. If this message persists, it\n",
       "  likely means that the widgets JavaScript library is either not installed or\n",
       "  not enabled. See the <a href=\"https://ipywidgets.readthedocs.io/en/stable/user_install.html\">Jupyter\n",
       "  Widgets Documentation</a> for setup instructions.\n",
       "</p>\n",
       "<p>\n",
       "  If you're reading this message in another frontend (for example, a static\n",
       "  rendering on GitHub or <a href=\"https://nbviewer.jupyter.org/\">NBViewer</a>),\n",
       "  it may mean that your frontend doesn't currently support widgets.\n",
       "</p>\n"
      ],
      "text/plain": [
       "HBox(children=(IntProgress(value=0, max=357), HTML(value='')))"
      ]
     },
     "metadata": {},
     "output_type": "display_data"
    },
    {
     "name": "stdout",
     "output_type": "stream",
     "text": [
      "\n"
     ]
    },
    {
     "data": {
      "application/vnd.jupyter.widget-view+json": {
       "model_id": "33a2c5288d85488893590266c34efc01",
       "version_major": 2,
       "version_minor": 0
      },
      "text/html": [
       "<p>Failed to display Jupyter Widget of type <code>HBox</code>.</p>\n",
       "<p>\n",
       "  If you're reading this message in the Jupyter Notebook or JupyterLab Notebook, it may mean\n",
       "  that the widgets JavaScript is still loading. If this message persists, it\n",
       "  likely means that the widgets JavaScript library is either not installed or\n",
       "  not enabled. See the <a href=\"https://ipywidgets.readthedocs.io/en/stable/user_install.html\">Jupyter\n",
       "  Widgets Documentation</a> for setup instructions.\n",
       "</p>\n",
       "<p>\n",
       "  If you're reading this message in another frontend (for example, a static\n",
       "  rendering on GitHub or <a href=\"https://nbviewer.jupyter.org/\">NBViewer</a>),\n",
       "  it may mean that your frontend doesn't currently support widgets.\n",
       "</p>\n"
      ],
      "text/plain": [
       "HBox(children=(IntProgress(value=0, max=32), HTML(value='')))"
      ]
     },
     "metadata": {},
     "output_type": "display_data"
    },
    {
     "name": "stdout",
     "output_type": "stream",
     "text": [
      "\n",
      "BLEU@2: 11.834727863414582\n",
      "Embedding Average: 78.82942207826076\n",
      "Greedy Matching: 40.62614169090516\n",
      "Loss: 71.1317138671875\n",
      "Perplexity: 2.7625863960962866\n",
      "ROUGE_L: 25.572380418365455\n",
      "Train Loss: 42.74297760715004\n",
      "Vector Extrema: 49.223166867771766\n",
      "\n",
      "Train elapsed 210.79886102676392, Test elapsed 19.816629886627197\n",
      "Updating lr = 0.0009043822064995766\n",
      "\n",
      "Starting epoch = 12/17\n"
     ]
    },
    {
     "data": {
      "application/vnd.jupyter.widget-view+json": {
       "model_id": "6bf869df784545c890bb1b8bfabf6f90",
       "version_major": 2,
       "version_minor": 0
      },
      "text/html": [
       "<p>Failed to display Jupyter Widget of type <code>HBox</code>.</p>\n",
       "<p>\n",
       "  If you're reading this message in the Jupyter Notebook or JupyterLab Notebook, it may mean\n",
       "  that the widgets JavaScript is still loading. If this message persists, it\n",
       "  likely means that the widgets JavaScript library is either not installed or\n",
       "  not enabled. See the <a href=\"https://ipywidgets.readthedocs.io/en/stable/user_install.html\">Jupyter\n",
       "  Widgets Documentation</a> for setup instructions.\n",
       "</p>\n",
       "<p>\n",
       "  If you're reading this message in another frontend (for example, a static\n",
       "  rendering on GitHub or <a href=\"https://nbviewer.jupyter.org/\">NBViewer</a>),\n",
       "  it may mean that your frontend doesn't currently support widgets.\n",
       "</p>\n"
      ],
      "text/plain": [
       "HBox(children=(IntProgress(value=0, max=357), HTML(value='')))"
      ]
     },
     "metadata": {},
     "output_type": "display_data"
    },
    {
     "name": "stdout",
     "output_type": "stream",
     "text": [
      "\n"
     ]
    },
    {
     "data": {
      "application/vnd.jupyter.widget-view+json": {
       "model_id": "284daeace2c449a7916c42f609638aa3",
       "version_major": 2,
       "version_minor": 0
      },
      "text/html": [
       "<p>Failed to display Jupyter Widget of type <code>HBox</code>.</p>\n",
       "<p>\n",
       "  If you're reading this message in the Jupyter Notebook or JupyterLab Notebook, it may mean\n",
       "  that the widgets JavaScript is still loading. If this message persists, it\n",
       "  likely means that the widgets JavaScript library is either not installed or\n",
       "  not enabled. See the <a href=\"https://ipywidgets.readthedocs.io/en/stable/user_install.html\">Jupyter\n",
       "  Widgets Documentation</a> for setup instructions.\n",
       "</p>\n",
       "<p>\n",
       "  If you're reading this message in another frontend (for example, a static\n",
       "  rendering on GitHub or <a href=\"https://nbviewer.jupyter.org/\">NBViewer</a>),\n",
       "  it may mean that your frontend doesn't currently support widgets.\n",
       "</p>\n"
      ],
      "text/plain": [
       "HBox(children=(IntProgress(value=0, max=32), HTML(value='')))"
      ]
     },
     "metadata": {},
     "output_type": "display_data"
    },
    {
     "name": "stdout",
     "output_type": "stream",
     "text": [
      "\n",
      "BLEU@2: 12.625775158228702\n",
      "Embedding Average: 79.02730594362012\n",
      "Greedy Matching: 39.92141635858836\n",
      "Loss: 70.98458862304688\n",
      "Perplexity: 2.7567861194539973\n",
      "ROUGE_L: 25.921411790842413\n",
      "Train Loss: 41.90434060510801\n",
      "Vector Extrema: 48.73274672838684\n",
      "\n",
      "Train elapsed 208.11789464950562, Test elapsed 19.192518949508667\n",
      "Updating lr = 0.0008953384822234511\n",
      "\n",
      "Starting epoch = 13/17\n"
     ]
    },
    {
     "data": {
      "application/vnd.jupyter.widget-view+json": {
       "model_id": "1a5a9834499c4dbbb691ee02ff693537",
       "version_major": 2,
       "version_minor": 0
      },
      "text/html": [
       "<p>Failed to display Jupyter Widget of type <code>HBox</code>.</p>\n",
       "<p>\n",
       "  If you're reading this message in the Jupyter Notebook or JupyterLab Notebook, it may mean\n",
       "  that the widgets JavaScript is still loading. If this message persists, it\n",
       "  likely means that the widgets JavaScript library is either not installed or\n",
       "  not enabled. See the <a href=\"https://ipywidgets.readthedocs.io/en/stable/user_install.html\">Jupyter\n",
       "  Widgets Documentation</a> for setup instructions.\n",
       "</p>\n",
       "<p>\n",
       "  If you're reading this message in another frontend (for example, a static\n",
       "  rendering on GitHub or <a href=\"https://nbviewer.jupyter.org/\">NBViewer</a>),\n",
       "  it may mean that your frontend doesn't currently support widgets.\n",
       "</p>\n"
      ],
      "text/plain": [
       "HBox(children=(IntProgress(value=0, max=357), HTML(value='')))"
      ]
     },
     "metadata": {},
     "output_type": "display_data"
    },
    {
     "name": "stdout",
     "output_type": "stream",
     "text": [
      "\n"
     ]
    },
    {
     "data": {
      "application/vnd.jupyter.widget-view+json": {
       "model_id": "ec18404c3c6d42e6b4c304e3c7274b8b",
       "version_major": 2,
       "version_minor": 0
      },
      "text/html": [
       "<p>Failed to display Jupyter Widget of type <code>HBox</code>.</p>\n",
       "<p>\n",
       "  If you're reading this message in the Jupyter Notebook or JupyterLab Notebook, it may mean\n",
       "  that the widgets JavaScript is still loading. If this message persists, it\n",
       "  likely means that the widgets JavaScript library is either not installed or\n",
       "  not enabled. See the <a href=\"https://ipywidgets.readthedocs.io/en/stable/user_install.html\">Jupyter\n",
       "  Widgets Documentation</a> for setup instructions.\n",
       "</p>\n",
       "<p>\n",
       "  If you're reading this message in another frontend (for example, a static\n",
       "  rendering on GitHub or <a href=\"https://nbviewer.jupyter.org/\">NBViewer</a>),\n",
       "  it may mean that your frontend doesn't currently support widgets.\n",
       "</p>\n"
      ],
      "text/plain": [
       "HBox(children=(IntProgress(value=0, max=32), HTML(value='')))"
      ]
     },
     "metadata": {},
     "output_type": "display_data"
    },
    {
     "name": "stdout",
     "output_type": "stream",
     "text": [
      "\n",
      "BLEU@2: 11.024708704730168\n",
      "Embedding Average: 78.0995574418213\n",
      "Greedy Matching: 40.66769680566579\n",
      "Loss: 70.83345031738281\n",
      "Perplexity: 2.750840312284387\n",
      "ROUGE_L: 25.545479384819664\n",
      "Train Loss: 41.141499452564226\n",
      "Vector Extrema: 48.877466164627485\n",
      "\n",
      "Train elapsed 207.20381784439087, Test elapsed 18.296521425247192\n",
      "Updating lr = 0.0008863849216140807\n",
      "\n",
      "Starting epoch = 14/17\n"
     ]
    },
    {
     "data": {
      "application/vnd.jupyter.widget-view+json": {
       "model_id": "6ffd33b2e60541e897b8c276047a3bab",
       "version_major": 2,
       "version_minor": 0
      },
      "text/html": [
       "<p>Failed to display Jupyter Widget of type <code>HBox</code>.</p>\n",
       "<p>\n",
       "  If you're reading this message in the Jupyter Notebook or JupyterLab Notebook, it may mean\n",
       "  that the widgets JavaScript is still loading. If this message persists, it\n",
       "  likely means that the widgets JavaScript library is either not installed or\n",
       "  not enabled. See the <a href=\"https://ipywidgets.readthedocs.io/en/stable/user_install.html\">Jupyter\n",
       "  Widgets Documentation</a> for setup instructions.\n",
       "</p>\n",
       "<p>\n",
       "  If you're reading this message in another frontend (for example, a static\n",
       "  rendering on GitHub or <a href=\"https://nbviewer.jupyter.org/\">NBViewer</a>),\n",
       "  it may mean that your frontend doesn't currently support widgets.\n",
       "</p>\n"
      ],
      "text/plain": [
       "HBox(children=(IntProgress(value=0, max=357), HTML(value='')))"
      ]
     },
     "metadata": {},
     "output_type": "display_data"
    },
    {
     "name": "stdout",
     "output_type": "stream",
     "text": [
      "\n"
     ]
    },
    {
     "data": {
      "application/vnd.jupyter.widget-view+json": {
       "model_id": "814ee551ecc64031ac88daa8284e19de",
       "version_major": 2,
       "version_minor": 0
      },
      "text/html": [
       "<p>Failed to display Jupyter Widget of type <code>HBox</code>.</p>\n",
       "<p>\n",
       "  If you're reading this message in the Jupyter Notebook or JupyterLab Notebook, it may mean\n",
       "  that the widgets JavaScript is still loading. If this message persists, it\n",
       "  likely means that the widgets JavaScript library is either not installed or\n",
       "  not enabled. See the <a href=\"https://ipywidgets.readthedocs.io/en/stable/user_install.html\">Jupyter\n",
       "  Widgets Documentation</a> for setup instructions.\n",
       "</p>\n",
       "<p>\n",
       "  If you're reading this message in another frontend (for example, a static\n",
       "  rendering on GitHub or <a href=\"https://nbviewer.jupyter.org/\">NBViewer</a>),\n",
       "  it may mean that your frontend doesn't currently support widgets.\n",
       "</p>\n"
      ],
      "text/plain": [
       "HBox(children=(IntProgress(value=0, max=32), HTML(value='')))"
      ]
     },
     "metadata": {},
     "output_type": "display_data"
    },
    {
     "name": "stdout",
     "output_type": "stream",
     "text": [
      "\n",
      "BLEU@2: 11.208101483048448\n",
      "Embedding Average: 78.23372359208007\n",
      "Greedy Matching: 40.42188171323796\n",
      "Loss: 70.96968078613281\n",
      "Perplexity: 2.756199071712362\n",
      "ROUGE_L: 25.207463095214443\n",
      "Train Loss: 40.443909995028285\n",
      "Vector Extrema: 48.28899318565368\n",
      "\n",
      "Train elapsed 206.45195293426514, Test elapsed 18.410131454467773\n",
      "Updating lr = 0.0008775211172178388\n",
      "\n",
      "Starting epoch = 15/17\n"
     ]
    },
    {
     "data": {
      "application/vnd.jupyter.widget-view+json": {
       "model_id": "e024669ac7a240b2bdfeaa8fcc50310a",
       "version_major": 2,
       "version_minor": 0
      },
      "text/html": [
       "<p>Failed to display Jupyter Widget of type <code>HBox</code>.</p>\n",
       "<p>\n",
       "  If you're reading this message in the Jupyter Notebook or JupyterLab Notebook, it may mean\n",
       "  that the widgets JavaScript is still loading. If this message persists, it\n",
       "  likely means that the widgets JavaScript library is either not installed or\n",
       "  not enabled. See the <a href=\"https://ipywidgets.readthedocs.io/en/stable/user_install.html\">Jupyter\n",
       "  Widgets Documentation</a> for setup instructions.\n",
       "</p>\n",
       "<p>\n",
       "  If you're reading this message in another frontend (for example, a static\n",
       "  rendering on GitHub or <a href=\"https://nbviewer.jupyter.org/\">NBViewer</a>),\n",
       "  it may mean that your frontend doesn't currently support widgets.\n",
       "</p>\n"
      ],
      "text/plain": [
       "HBox(children=(IntProgress(value=0, max=357), HTML(value='')))"
      ]
     },
     "metadata": {},
     "output_type": "display_data"
    },
    {
     "name": "stdout",
     "output_type": "stream",
     "text": [
      "\n"
     ]
    },
    {
     "data": {
      "application/vnd.jupyter.widget-view+json": {
       "model_id": "748b546344884f62b7702cbd5f0f3dd0",
       "version_major": 2,
       "version_minor": 0
      },
      "text/html": [
       "<p>Failed to display Jupyter Widget of type <code>HBox</code>.</p>\n",
       "<p>\n",
       "  If you're reading this message in the Jupyter Notebook or JupyterLab Notebook, it may mean\n",
       "  that the widgets JavaScript is still loading. If this message persists, it\n",
       "  likely means that the widgets JavaScript library is either not installed or\n",
       "  not enabled. See the <a href=\"https://ipywidgets.readthedocs.io/en/stable/user_install.html\">Jupyter\n",
       "  Widgets Documentation</a> for setup instructions.\n",
       "</p>\n",
       "<p>\n",
       "  If you're reading this message in another frontend (for example, a static\n",
       "  rendering on GitHub or <a href=\"https://nbviewer.jupyter.org/\">NBViewer</a>),\n",
       "  it may mean that your frontend doesn't currently support widgets.\n",
       "</p>\n"
      ],
      "text/plain": [
       "HBox(children=(IntProgress(value=0, max=32), HTML(value='')))"
      ]
     },
     "metadata": {},
     "output_type": "display_data"
    },
    {
     "name": "stdout",
     "output_type": "stream",
     "text": [
      "\n",
      "BLEU@2: 11.867781201738453\n",
      "Embedding Average: 78.39423100832406\n",
      "Greedy Matching: 40.47807317607447\n",
      "Loss: 70.52576446533203\n",
      "Perplexity: 2.7387754951582344\n",
      "ROUGE_L: 25.777017091251324\n",
      "Train Loss: 39.8055158770051\n",
      "Vector Extrema: 49.128621102851376\n",
      "\n",
      "Train elapsed 206.51500535011292, Test elapsed 18.61436152458191\n",
      "Updating lr = 0.0008687459630891681\n",
      "\n",
      "Starting epoch = 16/17\n"
     ]
    },
    {
     "data": {
      "application/vnd.jupyter.widget-view+json": {
       "model_id": "ba45e595352745afb70600d01b545272",
       "version_major": 2,
       "version_minor": 0
      },
      "text/html": [
       "<p>Failed to display Jupyter Widget of type <code>HBox</code>.</p>\n",
       "<p>\n",
       "  If you're reading this message in the Jupyter Notebook or JupyterLab Notebook, it may mean\n",
       "  that the widgets JavaScript is still loading. If this message persists, it\n",
       "  likely means that the widgets JavaScript library is either not installed or\n",
       "  not enabled. See the <a href=\"https://ipywidgets.readthedocs.io/en/stable/user_install.html\">Jupyter\n",
       "  Widgets Documentation</a> for setup instructions.\n",
       "</p>\n",
       "<p>\n",
       "  If you're reading this message in another frontend (for example, a static\n",
       "  rendering on GitHub or <a href=\"https://nbviewer.jupyter.org/\">NBViewer</a>),\n",
       "  it may mean that your frontend doesn't currently support widgets.\n",
       "</p>\n"
      ],
      "text/plain": [
       "HBox(children=(IntProgress(value=0, max=357), HTML(value='')))"
      ]
     },
     "metadata": {},
     "output_type": "display_data"
    },
    {
     "name": "stdout",
     "output_type": "stream",
     "text": [
      "\n"
     ]
    },
    {
     "data": {
      "application/vnd.jupyter.widget-view+json": {
       "model_id": "01cb67ed8e8b428eb9801af857ee8681",
       "version_major": 2,
       "version_minor": 0
      },
      "text/html": [
       "<p>Failed to display Jupyter Widget of type <code>HBox</code>.</p>\n",
       "<p>\n",
       "  If you're reading this message in the Jupyter Notebook or JupyterLab Notebook, it may mean\n",
       "  that the widgets JavaScript is still loading. If this message persists, it\n",
       "  likely means that the widgets JavaScript library is either not installed or\n",
       "  not enabled. See the <a href=\"https://ipywidgets.readthedocs.io/en/stable/user_install.html\">Jupyter\n",
       "  Widgets Documentation</a> for setup instructions.\n",
       "</p>\n",
       "<p>\n",
       "  If you're reading this message in another frontend (for example, a static\n",
       "  rendering on GitHub or <a href=\"https://nbviewer.jupyter.org/\">NBViewer</a>),\n",
       "  it may mean that your frontend doesn't currently support widgets.\n",
       "</p>\n"
      ],
      "text/plain": [
       "HBox(children=(IntProgress(value=0, max=32), HTML(value='')))"
      ]
     },
     "metadata": {},
     "output_type": "display_data"
    },
    {
     "name": "stdout",
     "output_type": "stream",
     "text": [
      "\n",
      "BLEU@2: 12.112669424954388\n",
      "Embedding Average: 78.83976895285286\n",
      "Greedy Matching: 40.37748654135357\n",
      "Loss: 70.23094177246094\n",
      "Perplexity: 2.7272647072324157\n",
      "ROUGE_L: 25.854257329202536\n",
      "Train Loss: 39.18690775489273\n",
      "Vector Extrema: 48.520942952671064\n",
      "\n",
      "Train elapsed 206.59243845939636, Test elapsed 18.891072034835815\n",
      "Updating lr = 0.0008600584696978331\n",
      "\n",
      "Starting epoch = 17/17\n"
     ]
    },
    {
     "data": {
      "application/vnd.jupyter.widget-view+json": {
       "model_id": "1cd08b9bc7e1483496c1c63431cf2000",
       "version_major": 2,
       "version_minor": 0
      },
      "text/html": [
       "<p>Failed to display Jupyter Widget of type <code>HBox</code>.</p>\n",
       "<p>\n",
       "  If you're reading this message in the Jupyter Notebook or JupyterLab Notebook, it may mean\n",
       "  that the widgets JavaScript is still loading. If this message persists, it\n",
       "  likely means that the widgets JavaScript library is either not installed or\n",
       "  not enabled. See the <a href=\"https://ipywidgets.readthedocs.io/en/stable/user_install.html\">Jupyter\n",
       "  Widgets Documentation</a> for setup instructions.\n",
       "</p>\n",
       "<p>\n",
       "  If you're reading this message in another frontend (for example, a static\n",
       "  rendering on GitHub or <a href=\"https://nbviewer.jupyter.org/\">NBViewer</a>),\n",
       "  it may mean that your frontend doesn't currently support widgets.\n",
       "</p>\n"
      ],
      "text/plain": [
       "HBox(children=(IntProgress(value=0, max=357), HTML(value='')))"
      ]
     },
     "metadata": {},
     "output_type": "display_data"
    },
    {
     "name": "stdout",
     "output_type": "stream",
     "text": [
      "\n"
     ]
    },
    {
     "data": {
      "application/vnd.jupyter.widget-view+json": {
       "model_id": "7a78badb7d20470e883a67589deaaeab",
       "version_major": 2,
       "version_minor": 0
      },
      "text/html": [
       "<p>Failed to display Jupyter Widget of type <code>HBox</code>.</p>\n",
       "<p>\n",
       "  If you're reading this message in the Jupyter Notebook or JupyterLab Notebook, it may mean\n",
       "  that the widgets JavaScript is still loading. If this message persists, it\n",
       "  likely means that the widgets JavaScript library is either not installed or\n",
       "  not enabled. See the <a href=\"https://ipywidgets.readthedocs.io/en/stable/user_install.html\">Jupyter\n",
       "  Widgets Documentation</a> for setup instructions.\n",
       "</p>\n",
       "<p>\n",
       "  If you're reading this message in another frontend (for example, a static\n",
       "  rendering on GitHub or <a href=\"https://nbviewer.jupyter.org/\">NBViewer</a>),\n",
       "  it may mean that your frontend doesn't currently support widgets.\n",
       "</p>\n"
      ],
      "text/plain": [
       "HBox(children=(IntProgress(value=0, max=32), HTML(value='')))"
      ]
     },
     "metadata": {},
     "output_type": "display_data"
    },
    {
     "name": "stdout",
     "output_type": "stream",
     "text": [
      "\n",
      "BLEU@2: 11.986358598196981\n",
      "Embedding Average: 78.72491015150968\n",
      "Greedy Matching: 40.182850212948956\n",
      "Loss: 70.66638946533203\n",
      "Perplexity: 2.744283029770734\n",
      "ROUGE_L: 25.651417250783314\n",
      "Train Loss: 38.606130028305266\n",
      "Vector Extrema: 48.14592936419425\n",
      "\n",
      "Train elapsed 206.42803525924683, Test elapsed 18.849482536315918\n",
      "Updating lr = 0.0008514579385519028\n"
     ]
    }
   ],
   "source": [
    "# Train\n",
    "try:\n",
    "    for epoch in range(hparams.max_epochs):\n",
    "        print('\\nStarting epoch = {}/{}'.format(epoch + 1, hparams.max_epochs))\n",
    "        batch_ids = get_batch_id_chunks(train_x.shape[0], hparams.batch_size)\n",
    "\n",
    "        lr = sess.run(learning_rate)\n",
    "        loss = .0\n",
    "        \n",
    "        perc = 0\n",
    "        t_start = time.time()\n",
    "        \n",
    "        iters_per_epoch = len(batch_ids)\n",
    "        for i in tqdm(range(iters_per_epoch)):\n",
    "            try:\n",
    "                step = sess.run(global_step)\n",
    "                feed_dict = next_batch(train_x, train_y, True, \n",
    "                                       rand_idx=batch_ids[i],\n",
    "                                       weights=None,\n",
    "                                       beam_width=1)\n",
    "                _, loss_value, summary = sess.run([train_op, train_loss, merged], feed_dict=feed_dict)\n",
    "                loss += loss_value\n",
    "                train_writer.add_summary(summary, step)\n",
    "\n",
    "                if (i % 10 == 0):\n",
    "                    feed_dict = next_batch(test_x, test_y, False, \n",
    "                                           beam_width=1, \n",
    "                                           batch_size=hparams.batch_size)\n",
    "                    summary = sess.run(merged, feed_dict=feed_dict)\n",
    "                    test_writer.add_summary(summary, step)\n",
    "            except Exception as e:\n",
    "                print(e)\n",
    "                print(batch_ids[i])\n",
    "                print(feed_dict)\n",
    "\n",
    "        t_epoch_end = time.time() - t_start\n",
    "\n",
    "        t_start = time.time()\n",
    "        \n",
    "        evaluation = evaluate(test_x, test_y, eval_conf_greedy, hparams.training_metrics, True)\n",
    "        evaluation['Train Loss'] = loss / iters_per_epoch\n",
    "        \n",
    "        t_test_end = time.time() - t_start\n",
    "        \n",
    "        print(format_metrics(evaluation))\n",
    "        print()\n",
    "        print('Train elapsed {}, Test elapsed {}'.format(t_epoch_end, t_test_end))\n",
    "        print('Updating lr = {}'.format(lr))\n",
    "        \n",
    "except KeyboardInterrupt:\n",
    "    print(\"\\nHalting training from keyboard interrupt.\")"
   ]
  },
  {
   "cell_type": "markdown",
   "metadata": {},
   "source": [
    "# Evaluation"
   ]
  },
  {
   "cell_type": "code",
   "execution_count": 19,
   "metadata": {},
   "outputs": [
    {
     "data": {
      "application/vnd.jupyter.widget-view+json": {
       "model_id": "e84f9b76464948dfb4de9672dd52577f",
       "version_major": 2,
       "version_minor": 0
      },
      "text/html": [
       "<p>Failed to display Jupyter Widget of type <code>HBox</code>.</p>\n",
       "<p>\n",
       "  If you're reading this message in the Jupyter Notebook or JupyterLab Notebook, it may mean\n",
       "  that the widgets JavaScript is still loading. If this message persists, it\n",
       "  likely means that the widgets JavaScript library is either not installed or\n",
       "  not enabled. See the <a href=\"https://ipywidgets.readthedocs.io/en/stable/user_install.html\">Jupyter\n",
       "  Widgets Documentation</a> for setup instructions.\n",
       "</p>\n",
       "<p>\n",
       "  If you're reading this message in another frontend (for example, a static\n",
       "  rendering on GitHub or <a href=\"https://nbviewer.jupyter.org/\">NBViewer</a>),\n",
       "  it may mean that your frontend doesn't currently support widgets.\n",
       "</p>\n"
      ],
      "text/plain": [
       "HBox(children=(IntProgress(value=0, max=32), HTML(value='')))"
      ]
     },
     "metadata": {},
     "output_type": "display_data"
    },
    {
     "name": "stdout",
     "output_type": "stream",
     "text": [
      "\n",
      "BLEU@2: 11.884106343264538\n",
      "Embedding Average: 77.73832141880689\n",
      "Greedy Matching: 39.46673801410414\n",
      "Loss: 70.66638946533203\n",
      "Perplexity: 2.744283029770734\n",
      "ROUGE_L: 25.42754348842419\n",
      "Vector Extrema: 47.9999565241955\n"
     ]
    }
   ],
   "source": [
    "evaluation = evaluate(test_x, test_y, eval_conf, hparams.evaluation_metrics, True)\n",
    "print(format_metrics(evaluation))"
   ]
  },
  {
   "cell_type": "code",
   "execution_count": 13,
   "metadata": {},
   "outputs": [
    {
     "name": "stdout",
     "output_type": "stream",
     "text": [
      "**************************************************Dialog #1**************************************************\n",
      ">>>>> <user> hey <user> when <user> its <user> <user> <user> <user> <user> <user> <user> <user> <user> <user> <user> <user> <user> <user>\n",
      "<<<<< <user> we are here to help answer any of your apple related questions or concerns . please tell us more about the problem . we will look into everything we can do to help you .\n",
      "\n",
      "Greedy: <user> we would like to help . what happens when you try to download an app ?\n",
      "Beam: \n",
      "<user> we would like to help . which device are you using ?\n",
      "<user> we would like to help . what happens when you try to download an app ?\n",
      "<user> we are here to help . what happens when you try to download an app ?\n",
      "<user> we would like to help . what happens when you try to download a song ?\n",
      "<user> we would like to help . what happens when you try to add a song ?\n",
      "\n",
      "**************************************************Dialog #2**************************************************\n",
      ">>>>> having <user> on you yet i what good you i hi <user> que tried im <user> ' how <user> fix\n",
      "<<<<< <user> we would like to help . your best bet is to follow the development news here : <url>\n",
      "\n",
      "Greedy: <user> we appreciate your interest and encourage you to stay up to date on apple news here : <url>\n",
      "Beam: \n",
      "<user> we appreciate your interest and encourage you to stay up to date on apple news here : <url>\n",
      "<user> we appreciate your interest and encourage you to stay up to date on news here : <url>\n",
      "<user> we appreciate your interest and encourage you to stay up to date on feedback here : <url>\n",
      "<user> we appreciate your interest and encourage you to stay up to date here : <url>\n",
      "<user> we appreciate your interest and encourage you to stay up to date on apple news here : <url> <url>\n",
      "\n",
      "**************************************************Dialog #3**************************************************\n",
      ">>>>> an is ios all again ️ __unk__ morning all am , why se that using you mo do <user> this\n",
      "<<<<< <user> the first step we should take is backing up and updating to ios 11.2 : <url> also , see if there are any whatsapp updates . let us know if that resolves the issue .\n",
      "\n",
      "Greedy: <user> we would like to help . which ios version are you currently running ? go to settings > general > about for the version .\n",
      "Beam: \n",
      "<user> we would like to help . which ios version are you currently running ? go to settings > general > about for the version .\n",
      "<user> we would like to help . have you tried restarting your device ? <url>\n",
      "<user> we would like to help . which ios version are you currently running ?\n",
      "<user> we would like to look into this with you . are you experiencing this issue on the latest version of ios 11.0 . 2 ?\n",
      "<user> we would like to help . which ios version are you currently running ? go to settings > general > about for that .\n",
      "\n",
      "**************************************************Dialog #4**************************************************\n",
      ">>>>> issue there <version> gonna after t charger ! ever not since cannot __unk__ for iphone have updates i thank !\n",
      "<<<<< <user> if you have not yet , please back up your device and update it to the latest version ios <version> , which addresses this issue . for more info , check out : <url> ￼\n",
      "\n",
      "Greedy: <user> we would like to help . check out this article for more details on what you are seeing : <url>\n",
      "Beam: \n",
      "<user> we are aware of this issue and are working hard to find a resolution . we do have a workaround : <url>\n",
      "<user> thanks for reaching out . we have a workaround for this here : <url>\n",
      "<user> thanks for reaching out to us . we have a workaround for this here : <url>\n",
      "<user> we are aware of this issue and are working hard to find a resolution . we have a workaround : <url>\n",
      "<user> we would like to help . check out this article which goes into more detail about what you are seeing : <url>\n",
      "\n",
      "**************************************************Dialog #5**************************************************\n",
      ">>>>> with a , fix another fuck do my gonna able yesterday i avec many 6s fucked ' enable you !\n",
      "<<<<< <user> hello . you have reached the right place for help . based on what you have described this issue is __unk__ . so lets tackle it together . first , which os version are you running on your ipod touch and your laptop ? is itunes up-to-date ?\n",
      "\n",
      "Greedy: <user> we would like to help . are you able to sign in to the apple id ?\n",
      "Beam: \n",
      "<user> we would like to help . have you tried restarting your device ?\n",
      "<user> we would like to help . what happens when you try to sign in ?\n",
      "<user> we would like to help . what happens when you try to sign in ? do you receive an error message ?\n",
      "<user> we would like to help . what happens when you try to log in ? do you receive an error message ?\n",
      "<user> we would like to help . what happens when you try to sign in ? do you receive an error ?\n",
      "\n",
      "**************************************************Dialog #6**************************************************\n",
      ">>>>> an site using this update its i iphone fix to night add <hashtag> days + my mo apple ! !\n",
      "<<<<< <user> it looks like your having an issue with autocorrect on your ios device we suggest you back up your iphone , update the ios , and test again . let us know your results . <url>\n",
      "\n",
      "Greedy: <user> we would like to help . check out this article which goes into more detail about what you are seeing : <url>\n",
      "Beam: \n",
      "<user> thanks for reaching out . this article has more details on that behavior , including how to address it : <url>\n",
      "<user> thanks for reaching out . we have a workaround for this here : <url>\n",
      "<user> thanks for reaching out to us . we have a workaround for this here : <url>\n",
      "<user> we would like to help . check out this article which goes into more detail about what you are seeing : <url>\n",
      "<user> we would like to help . check out this article for more details on what you are seeing : <url>\n",
      "\n",
      "**************************************************Dialog #7**************************************************\n",
      ">>>>> auto / the question , i need has the move my songs music already with phone problems pay i i\n",
      "<<<<< <user> we can help ! you can find the right charger for your macbook here : <url>\n",
      "\n",
      "Greedy: <user> we would like to help . check out this article for more information on that : <url>\n",
      "Beam: \n",
      "<user> we would like to help . check out this article : <url>\n",
      "<user> we would like to help . check out the information here : <url>\n",
      "<user> we would like to help . check out this article for more information on that : <url>\n",
      "<user> we would like to help . check out this article for more details on that : <url>\n",
      "<user> we would like to help . check out this article for more information on how to charge your macbook : <url>\n",
      "\n",
      "**************************************************Dialog #8**************************************************\n",
      ">>>>> subscription bot iphone mark my ️ to been i apps 6s to ? , ios up . cash get ️\n",
      "<<<<< <user> we are happy to help get this wi-fi issue taken care of . can you tell us which ios version you are currently using please ?\n",
      "\n",
      "Greedy: <user> we are here to help . what happens when you try to activate your iphone ?\n",
      "Beam: \n",
      "<user> we would like to help . which device are you using ?\n",
      "<user> we are here to help . what happens when you try to make a call ?\n",
      "<user> we are here to help . what happens when you try to update ?\n",
      "<user> we are here to help . what happens when you try to update ? do you receive an error message ?\n",
      "<user> we are here to help . what happens when you try to make a call ? are you receiving any error messages ?\n",
      "\n",
      "**************************************************Dialog #9**************************************************\n",
      ">>>>> of / x bullshit ipod t so unable ? to is \" ? it <version> with my card these i\n",
      "<<<<< <user> thanks for contacting us , this issue was resolved with the newest software update . please visit : <url>\n",
      "\n",
      "Greedy: <user> we are aware of this issue and are working hard to find a resolution . we do have a workaround : <url>\n",
      "Beam: \n",
      "<user> we are aware of this issue and are working hard to find a resolution . we do have a workaround : <url>\n",
      "<user> thanks for reaching out . we have a workaround for this here : <url>\n",
      "<user> we are aware of this issue and are working hard to find a resolution . we have a workaround : <url>\n",
      "<user> we would like to help . check out this article which goes into more detail about what you are seeing : <url>\n",
      "<user> we are aware of this issue and are working hard to find a resolution . we do have a guide : <url>\n",
      "\n",
      "**************************************************Dialog #10**************************************************\n",
      ">>>>> an feed . ? touch fuck macbook to existing canceling up impossible is and these phone emails ️\n",
      "<<<<< <user> hi there ! we are sorry to hear you are having issues moving apps into folders . lets try restarting your iphone with our steps here : <url> let us know if this helps .\n",
      "\n",
      "Greedy: <user> we would like to help . which device are you using ?\n",
      "Beam: \n",
      "<user> we would like to help . which device are you using ?\n",
      "<user> we would like to help . which device are you experiencing this on ?\n",
      "<user> we would like to look into this with you . which device are you using ?\n",
      "<user> we would like to look into this with you . which device are you experiencing this on ?\n",
      "<user> we would like to look into this with you . what happens when you try to open the app ?\n",
      "\n",
      "**************************************************Dialog #11**************************************************\n",
      ">>>>> app that i ? will its usb-c join folders every next de useless after useless just all i\n",
      "<<<<< <user> we want to help . first , we would suggest following the steps here to resolve the issue : <url> if you need further assistance , let us know .\n",
      "\n",
      "Greedy: <user> we would like to help . which ios version are you using ?\n",
      "Beam: \n",
      "<user> we would like to help . which ios version are you using ?\n",
      "<user> we would like to look into this with you . which device are you using ?\n",
      "<user> we would like to look into this with you . which iphone do you have ?\n",
      "<user> we would like to look into this with you . which version of ios are you running ?\n",
      "<user> we would like to look into this with you . can you tell us which iphone and ios version you are using ?\n",
      "\n",
      "**************************************************Dialog #12**************************************************\n",
      ">>>>> . provides am <user> not i will a on minute \" se <user> i updates got the ️\n",
      "<<<<< <user> we are happy to assist . which ios version are you currently running ? go to settings > general > about for the version .\n",
      "\n",
      "Greedy: <user> we would like to help . which device are you using ?\n",
      "Beam: \n",
      "<user> we would like to help . which device are you using ?\n",
      "<user> we would like to look into this with you . which device are you using ?\n",
      "<user> we would like to look into this with you . could you tell us which device and ios version you are using ?\n",
      "<user> we would like to look into this with you . could you tell us which device you are using ?\n",
      "<user> we would like to look into this with you . could you tell us which apple device you are using ?\n",
      "\n",
      "**************************************************Dialog #13**************************************************\n",
      ">>>>> please updates not sync ️ actually \" ios . connecter for updated ... stuck time\n",
      "<<<<< <user> we offer support via twitter in english . contact us for help in your preferred language here : <url>\n",
      "\n",
      "Greedy: <user> we offer support via twitter in english . contact us for help in your preferred language here : <url>\n",
      "Beam: \n",
      "<user> we offer support via twitter in english . contact us for help in your preferred language here : <url>\n",
      "<user> we offer support via twitter in english . contact an advisor for help in your preferred language here : <url>\n",
      "<user> we offer support via twitter in english . contact us for help in your preferred language here : <url> <url>\n",
      "<user> we offer support via twitter in english ! contact us for help in your preferred language here : <url>\n",
      "<user> we offer support via twitter in english . contact us for help in the preferred language here : <url>\n",
      "\n",
      "**************************************************Dialog #14**************************************************\n",
      ">>>>> help when receiving with t charge __unk__ <version> restart . the to thanks in and\n",
      "<<<<< <user> thanks for letting us know . because we do not handle orders via twitter , we would ask that you keep trying to reach our online store . they are best suited to assist you .\n",
      "\n",
      "Greedy: <user> we would like to get you in touch with our apple online store team for further assistance . you can reach them here : <url>\n",
      "Beam: \n",
      "<user> we would like to get you pointed in the right direction . reach out to our apple online store support team here : <url>\n",
      "<user> we would like to get you pointed in the right direction . reach out to our online sales support team here : <url>\n",
      "<user> we would like to get you in touch with our apple online store team for further assistance . you can reach them here : <url>\n",
      "<user> we would like to get you in touch with our apple online store support for further assistance . you can reach them here : <url>\n",
      "<user> we would like to get you in touch with our apple online store team for further assistance . you can contact them here : <url>\n",
      "\n",
      "**************************************************Dialog #15**************************************************\n",
      ">>>>> me <hashtag> whatsapp my bullshit ? wi-fi . and écran best the my landscape they\n",
      "<<<<< <user> thanks for that info . have you checked for any updates to the twitter app in the app store ? if there are not any , remove the app , restart your iphone , and install it back onto your device . let us know if that helps .\n",
      "\n",
      "Greedy: <user> we would like to help . which device are you using ?\n",
      "Beam: \n",
      "<user> we would like to help . which device are you using ?\n",
      "<user> we would like to look into this with you . which device are you using ?\n",
      "<user> we would like to look into this with you . which device and ios version are you using ?\n",
      "<user> we would like to look into this with you . can you tell us which device you are using ?\n",
      "<user> we would like to look into this with you . what happens when you try to send a screenshot ?\n",
      "\n",
      "**************************************************Dialog #16**************************************************\n",
      ">>>>> with and notifications laptop 😡 __unk__ network tried backup __unk__ assistance latest phone . __unk__\n",
      "<<<<< <user> we would like to help with the issues happening on your iphone , but we will need more details to start . also , which model do you currently have and that is the exact ios version number installed ?\n",
      "\n",
      "Greedy: <user> we would like to help . which iphone model do you own ?\n",
      "Beam: \n",
      "<user> we would like to help . which iphone model do you own ?\n",
      "<user> we would like to help . which device are you using ?\n",
      "<user> we would like to look into this with you . can you tell us which iphone and ios version you are using ?\n",
      "<user> we would like to look into this with you . which device are you using ?\n",
      "<user> we would like to look into this with you . can you tell us which iphone and ios 11 version you are using ?\n",
      "\n",
      "**************************************************Dialog #17**************************************************\n",
      ">>>>> this <hashtag> when and <user> ? \" multiple does .. regarding ios was thanks me\n",
      "<<<<< <user> lets look into this together . have you tried restarting your iphone or any other troubleshooting steps ?\n",
      "\n",
      "Greedy: <user> we would like to help . which device are you using ?\n",
      "Beam: \n",
      "<user> we would like to help . which device are you using ?\n",
      "<user> we would like to help . could you tell us which device you are using ?\n",
      "<user> we would like to look into this with you . could you tell us which device you are using ?\n",
      "<user> we would like to look into this with you . can you tell us which device you are using ?\n",
      "<user> we would like to look into this with you . could you tell us which iphone and ios version you are using ?\n",
      "\n",
      "**************************************************Dialog #18**************************************************\n",
      ">>>>> patches the half <user> __unk__ like ways not <url> your , perfectly <version> every\n",
      "<<<<< <user> hello there . you should find all the information you need here : <url>\n",
      "\n",
      "Greedy: <user> we would like to help . check out this article for more information on what you are seeing : <url>\n",
      "Beam: \n",
      "<user> we would like to help . check out this article : <url>\n",
      "<user> we would like to help . check out this article for more information on what you are seeing : <url>\n",
      "<user> we would like to help . check out this article for more info on what you are seeing : <url>\n",
      "<user> we would like to help . check out this article for more information on what you can do: <url>\n",
      "<user> we would like to help . check out this article for more information on what you can do to get to the bottom of this : <url>\n",
      "\n",
      "**************************************************Dialog #19**************************************************\n",
      ">>>>> including phone my ? you ! __unk__ order the fine time\n",
      "<<<<< <user> hello . we can definitely confirm that email did not come from apple . when you receive an email like this , please forward it as an attachment to __email__ check out this guide to identify and report phishing messages : <url>\n",
      "\n",
      "Greedy: <user> we are here to help . please take a look at this article for more info on what to do: <url>\n",
      "Beam: \n",
      "<user> we would like to help . which device are you using ?\n",
      "<user> we would like to help . what happens when you try to send a message ?\n",
      "<user> we would like to help . which device are you using ? what happens when you try to send a message ?\n",
      "<user> we would like to help . which device are you using ? what happens when you attempt to send a message ?\n",
      "<user> we would like to help . which device are you using ? also , what happens when you try to send a message ?\n",
      "\n",
      "**************************************************Dialog #20**************************************************\n",
      ">>>>> compatibility is artwork find please this status save til haha\n",
      "<<<<< <user> thanks for reaching out . we would like to know more to assist . which software version are you having this issue on ? let us know and we will continue .\n",
      "\n",
      "Greedy: <user> we are aware of this issue and are working hard to find a resolution . we do have a workaround : <url>\n",
      "Beam: \n",
      "<user> we are aware of this issue and are working hard to find a resolution . we do have a workaround : <url>\n",
      "<user> thanks for reaching out . we have a workaround for this here : <url>\n",
      "<user> we are aware of this issue and are working hard to find a resolution . we have a workaround : <url>\n",
      "<user> we would like to help . check out this article which goes into more detail about what you are seeing : <url>\n",
      "<user> we are aware of this issue and are working hard to find a resolution . we have a workaround here : <url>\n",
      "\n"
     ]
    }
   ],
   "source": [
    "batch = 20\n",
    "beam_width = hparams.beam_width\n",
    "\n",
    "feed_dict = next_batch(test_x, test_y, False, beam_width=beam_width, batch_size=batch)\n",
    "\n",
    "feed_dict[beam_width_tensor] = 1\n",
    "replies_greedy = sess.run(greedy_translations, feed_dict=feed_dict)\n",
    "\n",
    "feed_dict[beam_width_tensor] = beam_width\n",
    "replies_beam = (['\\n'.join([voc_holder.from_word_idx(u)for u in row]) \n",
    "                for row in np.transpose(sess.run(beam_translations, feed_dict=feed_dict), [1, 0, 2])])\n",
    "\n",
    "for i in range(batch):\n",
    "    print('*' * 50 + 'Dialog #{}'.format(i + 1) + '*' * 50)\n",
    "    print('>>>>> ', end='')\n",
    "    print(voc_holder.from_word_idx(feed_dict.get(encoder_inputs).T[i]))\n",
    "    print('<<<<< ', end='')\n",
    "    print(voc_holder.from_word_idx(feed_dict.get(target_labels)[i]))\n",
    "    print()\n",
    "    print('Greedy: ' + voc_holder.from_word_idx(np.array(replies_greedy[i])))\n",
    "    if (replies_beam is not None):\n",
    "        print('Beam: \\n' +  replies_beam[i])\n",
    "        \n",
    "    print()"
   ]
  },
  {
   "cell_type": "code",
   "execution_count": 14,
   "metadata": {},
   "outputs": [
    {
     "data": {
      "application/vnd.jupyter.widget-view+json": {
       "model_id": "910fd2394fa94bc1bb33fe0f3a141c90",
       "version_major": 2,
       "version_minor": 0
      },
      "text/html": [
       "<p>Failed to display Jupyter Widget of type <code>HBox</code>.</p>\n",
       "<p>\n",
       "  If you're reading this message in the Jupyter Notebook or JupyterLab Notebook, it may mean\n",
       "  that the widgets JavaScript is still loading. If this message persists, it\n",
       "  likely means that the widgets JavaScript library is either not installed or\n",
       "  not enabled. See the <a href=\"https://ipywidgets.readthedocs.io/en/stable/user_install.html\">Jupyter\n",
       "  Widgets Documentation</a> for setup instructions.\n",
       "</p>\n",
       "<p>\n",
       "  If you're reading this message in another frontend (for example, a static\n",
       "  rendering on GitHub or <a href=\"https://nbviewer.jupyter.org/\">NBViewer</a>),\n",
       "  it may mean that your frontend doesn't currently support widgets.\n",
       "</p>\n"
      ],
      "text/plain": [
       "HBox(children=(IntProgress(value=0, max=357), HTML(value='')))"
      ]
     },
     "metadata": {},
     "output_type": "display_data"
    },
    {
     "ename": "KeyboardInterrupt",
     "evalue": "",
     "output_type": "error",
     "traceback": [
      "\u001b[0;31m---------------------------------------------------------------------------\u001b[0m",
      "\u001b[0;31mKeyboardInterrupt\u001b[0m                         Traceback (most recent call last)",
      "\u001b[0;32m<ipython-input-14-8eff7e4830d1>\u001b[0m in \u001b[0;36m<module>\u001b[0;34m()\u001b[0m\n\u001b[0;32m----> 1\u001b[0;31m \u001b[0mevaluation\u001b[0m \u001b[0;34m=\u001b[0m \u001b[0mevaluate\u001b[0m\u001b[0;34m(\u001b[0m\u001b[0mtrain_x\u001b[0m\u001b[0;34m,\u001b[0m \u001b[0mtrain_y\u001b[0m\u001b[0;34m,\u001b[0m \u001b[0meval_conf\u001b[0m\u001b[0;34m,\u001b[0m \u001b[0mhparams\u001b[0m\u001b[0;34m.\u001b[0m\u001b[0mevaluation_metrics\u001b[0m\u001b[0;34m,\u001b[0m \u001b[0;32mTrue\u001b[0m\u001b[0;34m)\u001b[0m\u001b[0;34m\u001b[0m\u001b[0m\n\u001b[0m\u001b[1;32m      2\u001b[0m \u001b[0mprint\u001b[0m\u001b[0;34m(\u001b[0m\u001b[0mformat_metrics\u001b[0m\u001b[0;34m(\u001b[0m\u001b[0mevaluation\u001b[0m\u001b[0;34m)\u001b[0m\u001b[0;34m)\u001b[0m\u001b[0;34m\u001b[0m\u001b[0m\n",
      "\u001b[0;32m<ipython-input-4-0fa38b25e544>\u001b[0m in \u001b[0;36mevaluate\u001b[0;34m(x, y, eval_conf, metrics, verbose)\u001b[0m\n\u001b[1;32m    100\u001b[0m \u001b[0;34m\u001b[0m\u001b[0m\n\u001b[1;32m    101\u001b[0m \u001b[0;32mdef\u001b[0m \u001b[0mevaluate\u001b[0m\u001b[0;34m(\u001b[0m\u001b[0mx\u001b[0m\u001b[0;34m,\u001b[0m \u001b[0my\u001b[0m\u001b[0;34m,\u001b[0m \u001b[0meval_conf\u001b[0m\u001b[0;34m,\u001b[0m \u001b[0mmetrics\u001b[0m\u001b[0;34m,\u001b[0m \u001b[0mverbose\u001b[0m \u001b[0;34m=\u001b[0m \u001b[0;32mFalse\u001b[0m\u001b[0;34m)\u001b[0m\u001b[0;34m:\u001b[0m\u001b[0;34m\u001b[0m\u001b[0m\n\u001b[0;32m--> 102\u001b[0;31m     \u001b[0mreferences\u001b[0m\u001b[0;34m,\u001b[0m \u001b[0mhypothesis\u001b[0m\u001b[0;34m,\u001b[0m \u001b[0mlosses\u001b[0m \u001b[0;34m=\u001b[0m \u001b[0mget_references_and_hypothesis\u001b[0m\u001b[0;34m(\u001b[0m\u001b[0mx\u001b[0m\u001b[0;34m,\u001b[0m \u001b[0my\u001b[0m\u001b[0;34m,\u001b[0m \u001b[0meval_conf\u001b[0m\u001b[0;34m,\u001b[0m \u001b[0mverbose\u001b[0m\u001b[0;34m)\u001b[0m\u001b[0;34m\u001b[0m\u001b[0m\n\u001b[0m\u001b[1;32m    103\u001b[0m \u001b[0;34m\u001b[0m\u001b[0m\n\u001b[1;32m    104\u001b[0m     \u001b[0mevaluation\u001b[0m \u001b[0;34m=\u001b[0m \u001b[0mevaluate_words_index\u001b[0m\u001b[0;34m(\u001b[0m\u001b[0mreferences\u001b[0m\u001b[0;34m,\u001b[0m \u001b[0mhypothesis\u001b[0m\u001b[0;34m,\u001b[0m \u001b[0meval_conf\u001b[0m\u001b[0;34m,\u001b[0m \u001b[0mmetrics\u001b[0m\u001b[0;34m,\u001b[0m \u001b[0mverbose\u001b[0m\u001b[0;34m)\u001b[0m\u001b[0;34m\u001b[0m\u001b[0m\n",
      "\u001b[0;32m<ipython-input-4-0fa38b25e544>\u001b[0m in \u001b[0;36mget_references_and_hypothesis\u001b[0;34m(x, y, eval_conf, verbose)\u001b[0m\n\u001b[1;32m     82\u001b[0m             beam_width=beam_width)\n\u001b[1;32m     83\u001b[0m \u001b[0;34m\u001b[0m\u001b[0m\n\u001b[0;32m---> 84\u001b[0;31m         \u001b[0mresponses\u001b[0m \u001b[0;34m=\u001b[0m \u001b[0msess\u001b[0m\u001b[0;34m.\u001b[0m\u001b[0mrun\u001b[0m\u001b[0;34m(\u001b[0m\u001b[0meval_conf\u001b[0m\u001b[0;34m.\u001b[0m\u001b[0mseq_func\u001b[0m\u001b[0;34m,\u001b[0m \u001b[0mfeed_dict\u001b[0m\u001b[0;34m=\u001b[0m\u001b[0mfeed_dict\u001b[0m\u001b[0;34m)\u001b[0m\u001b[0;34m\u001b[0m\u001b[0m\n\u001b[0m\u001b[1;32m     85\u001b[0m         \u001b[0mfeed_dict\u001b[0m\u001b[0;34m[\u001b[0m\u001b[0mbeam_width_tensor\u001b[0m\u001b[0;34m]\u001b[0m \u001b[0;34m=\u001b[0m \u001b[0;36m1\u001b[0m\u001b[0;34m\u001b[0m\u001b[0m\n\u001b[1;32m     86\u001b[0m         \u001b[0mloss\u001b[0m \u001b[0;34m=\u001b[0m \u001b[0msess\u001b[0m\u001b[0;34m.\u001b[0m\u001b[0mrun\u001b[0m\u001b[0;34m(\u001b[0m\u001b[0mtrain_loss\u001b[0m\u001b[0;34m,\u001b[0m \u001b[0mfeed_dict\u001b[0m\u001b[0;34m=\u001b[0m\u001b[0mfeed_dict\u001b[0m\u001b[0;34m)\u001b[0m\u001b[0;34m\u001b[0m\u001b[0m\n",
      "\u001b[0;32m~/.local/lib/python3.5/site-packages/tensorflow/python/client/session.py\u001b[0m in \u001b[0;36mrun\u001b[0;34m(self, fetches, feed_dict, options, run_metadata)\u001b[0m\n\u001b[1;32m    903\u001b[0m     \u001b[0;32mtry\u001b[0m\u001b[0;34m:\u001b[0m\u001b[0;34m\u001b[0m\u001b[0m\n\u001b[1;32m    904\u001b[0m       result = self._run(None, fetches, feed_dict, options_ptr,\n\u001b[0;32m--> 905\u001b[0;31m                          run_metadata_ptr)\n\u001b[0m\u001b[1;32m    906\u001b[0m       \u001b[0;32mif\u001b[0m \u001b[0mrun_metadata\u001b[0m\u001b[0;34m:\u001b[0m\u001b[0;34m\u001b[0m\u001b[0m\n\u001b[1;32m    907\u001b[0m         \u001b[0mproto_data\u001b[0m \u001b[0;34m=\u001b[0m \u001b[0mtf_session\u001b[0m\u001b[0;34m.\u001b[0m\u001b[0mTF_GetBuffer\u001b[0m\u001b[0;34m(\u001b[0m\u001b[0mrun_metadata_ptr\u001b[0m\u001b[0;34m)\u001b[0m\u001b[0;34m\u001b[0m\u001b[0m\n",
      "\u001b[0;32m~/.local/lib/python3.5/site-packages/tensorflow/python/client/session.py\u001b[0m in \u001b[0;36m_run\u001b[0;34m(self, handle, fetches, feed_dict, options, run_metadata)\u001b[0m\n\u001b[1;32m   1138\u001b[0m     \u001b[0;32mif\u001b[0m \u001b[0mfinal_fetches\u001b[0m \u001b[0;32mor\u001b[0m \u001b[0mfinal_targets\u001b[0m \u001b[0;32mor\u001b[0m \u001b[0;34m(\u001b[0m\u001b[0mhandle\u001b[0m \u001b[0;32mand\u001b[0m \u001b[0mfeed_dict_tensor\u001b[0m\u001b[0;34m)\u001b[0m\u001b[0;34m:\u001b[0m\u001b[0;34m\u001b[0m\u001b[0m\n\u001b[1;32m   1139\u001b[0m       results = self._do_run(handle, final_targets, final_fetches,\n\u001b[0;32m-> 1140\u001b[0;31m                              feed_dict_tensor, options, run_metadata)\n\u001b[0m\u001b[1;32m   1141\u001b[0m     \u001b[0;32melse\u001b[0m\u001b[0;34m:\u001b[0m\u001b[0;34m\u001b[0m\u001b[0m\n\u001b[1;32m   1142\u001b[0m       \u001b[0mresults\u001b[0m \u001b[0;34m=\u001b[0m \u001b[0;34m[\u001b[0m\u001b[0;34m]\u001b[0m\u001b[0;34m\u001b[0m\u001b[0m\n",
      "\u001b[0;32m~/.local/lib/python3.5/site-packages/tensorflow/python/client/session.py\u001b[0m in \u001b[0;36m_do_run\u001b[0;34m(self, handle, target_list, fetch_list, feed_dict, options, run_metadata)\u001b[0m\n\u001b[1;32m   1319\u001b[0m     \u001b[0;32mif\u001b[0m \u001b[0mhandle\u001b[0m \u001b[0;32mis\u001b[0m \u001b[0;32mNone\u001b[0m\u001b[0;34m:\u001b[0m\u001b[0;34m\u001b[0m\u001b[0m\n\u001b[1;32m   1320\u001b[0m       return self._do_call(_run_fn, feeds, fetches, targets, options,\n\u001b[0;32m-> 1321\u001b[0;31m                            run_metadata)\n\u001b[0m\u001b[1;32m   1322\u001b[0m     \u001b[0;32melse\u001b[0m\u001b[0;34m:\u001b[0m\u001b[0;34m\u001b[0m\u001b[0m\n\u001b[1;32m   1323\u001b[0m       \u001b[0;32mreturn\u001b[0m \u001b[0mself\u001b[0m\u001b[0;34m.\u001b[0m\u001b[0m_do_call\u001b[0m\u001b[0;34m(\u001b[0m\u001b[0m_prun_fn\u001b[0m\u001b[0;34m,\u001b[0m \u001b[0mhandle\u001b[0m\u001b[0;34m,\u001b[0m \u001b[0mfeeds\u001b[0m\u001b[0;34m,\u001b[0m \u001b[0mfetches\u001b[0m\u001b[0;34m)\u001b[0m\u001b[0;34m\u001b[0m\u001b[0m\n",
      "\u001b[0;32m~/.local/lib/python3.5/site-packages/tensorflow/python/client/session.py\u001b[0m in \u001b[0;36m_do_call\u001b[0;34m(self, fn, *args)\u001b[0m\n\u001b[1;32m   1325\u001b[0m   \u001b[0;32mdef\u001b[0m \u001b[0m_do_call\u001b[0m\u001b[0;34m(\u001b[0m\u001b[0mself\u001b[0m\u001b[0;34m,\u001b[0m \u001b[0mfn\u001b[0m\u001b[0;34m,\u001b[0m \u001b[0;34m*\u001b[0m\u001b[0margs\u001b[0m\u001b[0;34m)\u001b[0m\u001b[0;34m:\u001b[0m\u001b[0;34m\u001b[0m\u001b[0m\n\u001b[1;32m   1326\u001b[0m     \u001b[0;32mtry\u001b[0m\u001b[0;34m:\u001b[0m\u001b[0;34m\u001b[0m\u001b[0m\n\u001b[0;32m-> 1327\u001b[0;31m       \u001b[0;32mreturn\u001b[0m \u001b[0mfn\u001b[0m\u001b[0;34m(\u001b[0m\u001b[0;34m*\u001b[0m\u001b[0margs\u001b[0m\u001b[0;34m)\u001b[0m\u001b[0;34m\u001b[0m\u001b[0m\n\u001b[0m\u001b[1;32m   1328\u001b[0m     \u001b[0;32mexcept\u001b[0m \u001b[0merrors\u001b[0m\u001b[0;34m.\u001b[0m\u001b[0mOpError\u001b[0m \u001b[0;32mas\u001b[0m \u001b[0me\u001b[0m\u001b[0;34m:\u001b[0m\u001b[0;34m\u001b[0m\u001b[0m\n\u001b[1;32m   1329\u001b[0m       \u001b[0mmessage\u001b[0m \u001b[0;34m=\u001b[0m \u001b[0mcompat\u001b[0m\u001b[0;34m.\u001b[0m\u001b[0mas_text\u001b[0m\u001b[0;34m(\u001b[0m\u001b[0me\u001b[0m\u001b[0;34m.\u001b[0m\u001b[0mmessage\u001b[0m\u001b[0;34m)\u001b[0m\u001b[0;34m\u001b[0m\u001b[0m\n",
      "\u001b[0;32m~/.local/lib/python3.5/site-packages/tensorflow/python/client/session.py\u001b[0m in \u001b[0;36m_run_fn\u001b[0;34m(feed_dict, fetch_list, target_list, options, run_metadata)\u001b[0m\n\u001b[1;32m   1310\u001b[0m       \u001b[0mself\u001b[0m\u001b[0;34m.\u001b[0m\u001b[0m_extend_graph\u001b[0m\u001b[0;34m(\u001b[0m\u001b[0;34m)\u001b[0m\u001b[0;34m\u001b[0m\u001b[0m\n\u001b[1;32m   1311\u001b[0m       return self._call_tf_sessionrun(\n\u001b[0;32m-> 1312\u001b[0;31m           options, feed_dict, fetch_list, target_list, run_metadata)\n\u001b[0m\u001b[1;32m   1313\u001b[0m \u001b[0;34m\u001b[0m\u001b[0m\n\u001b[1;32m   1314\u001b[0m     \u001b[0;32mdef\u001b[0m \u001b[0m_prun_fn\u001b[0m\u001b[0;34m(\u001b[0m\u001b[0mhandle\u001b[0m\u001b[0;34m,\u001b[0m \u001b[0mfeed_dict\u001b[0m\u001b[0;34m,\u001b[0m \u001b[0mfetch_list\u001b[0m\u001b[0;34m)\u001b[0m\u001b[0;34m:\u001b[0m\u001b[0;34m\u001b[0m\u001b[0m\n",
      "\u001b[0;32m~/.local/lib/python3.5/site-packages/tensorflow/python/client/session.py\u001b[0m in \u001b[0;36m_call_tf_sessionrun\u001b[0;34m(self, options, feed_dict, fetch_list, target_list, run_metadata)\u001b[0m\n\u001b[1;32m   1418\u001b[0m         return tf_session.TF_Run(\n\u001b[1;32m   1419\u001b[0m             \u001b[0mself\u001b[0m\u001b[0;34m.\u001b[0m\u001b[0m_session\u001b[0m\u001b[0;34m,\u001b[0m \u001b[0moptions\u001b[0m\u001b[0;34m,\u001b[0m \u001b[0mfeed_dict\u001b[0m\u001b[0;34m,\u001b[0m \u001b[0mfetch_list\u001b[0m\u001b[0;34m,\u001b[0m \u001b[0mtarget_list\u001b[0m\u001b[0;34m,\u001b[0m\u001b[0;34m\u001b[0m\u001b[0m\n\u001b[0;32m-> 1420\u001b[0;31m             status, run_metadata)\n\u001b[0m\u001b[1;32m   1421\u001b[0m \u001b[0;34m\u001b[0m\u001b[0m\n\u001b[1;32m   1422\u001b[0m   \u001b[0;32mdef\u001b[0m \u001b[0m_call_tf_sessionprun\u001b[0m\u001b[0;34m(\u001b[0m\u001b[0mself\u001b[0m\u001b[0;34m,\u001b[0m \u001b[0mhandle\u001b[0m\u001b[0;34m,\u001b[0m \u001b[0mfeed_dict\u001b[0m\u001b[0;34m,\u001b[0m \u001b[0mfetch_list\u001b[0m\u001b[0;34m)\u001b[0m\u001b[0;34m:\u001b[0m\u001b[0;34m\u001b[0m\u001b[0m\n",
      "\u001b[0;31mKeyboardInterrupt\u001b[0m: "
     ]
    }
   ],
   "source": [
    "evaluation = evaluate(train_x, train_y, eval_conf, hparams.evaluation_metrics, True)\n",
    "print(format_metrics(evaluation))"
   ]
  },
  {
   "cell_type": "code",
   "execution_count": null,
   "metadata": {},
   "outputs": [],
   "source": [
    "#saver = tf.train.Saver()\n",
    "#saver.save(sess, \"/home/momchil/Storage/Projects/Python/Customer Support/models/1521915353.ckpt\")"
   ]
  },
  {
   "cell_type": "code",
   "execution_count": null,
   "metadata": {},
   "outputs": [],
   "source": [
    "stop"
   ]
  },
  {
   "cell_type": "code",
   "execution_count": null,
   "metadata": {},
   "outputs": [],
   "source": [
    "def export(x, y, eval_conf):\n",
    "    verbose = True\n",
    "    references = []\n",
    "    hypothesis = []\n",
    "    losses = []\n",
    "    questions = []\n",
    "\n",
    "    batch_size = eval_conf.batch_size\n",
    "    beam_width = eval_conf.beam_width\n",
    "\n",
    "    batch_ids = get_batch_id_chunks(len(x), batch_size)\n",
    "\n",
    "    gen = range(len(batch_ids))\n",
    "    exclude = set(string.punctuation)\n",
    "\n",
    "    if (verbose):\n",
    "        gen = tqdm(gen)\n",
    "\n",
    "    for i in gen:\n",
    "        feed_dict = next_batch(x, y, False,\n",
    "            rand_idx=batch_ids[i], \n",
    "            weights=None,\n",
    "            beam_width=beam_width)\n",
    "        \n",
    "        responses = sess.run(eval_conf.seq_func, feed_dict=feed_dict)[0]\n",
    "        feed_dict[beam_width_tensor] = 1\n",
    "        loss = sess.run(tf.reduce_mean(crossent * target_weights, 1), feed_dict=feed_dict)\n",
    "\n",
    "        for (h, r, q, l) in zip(responses, feed_dict.get(target_labels), feed_dict.get(encoder_inputs), loss):\n",
    "            references.append(voc_holder.from_word_idx(strip_punkt(r, eval_conf.voc_holder.reverse_vocab)))\n",
    "            hypothesis.append(voc_holder.from_word_idx(strip_punkt(h, eval_conf.voc_holder.reverse_vocab)))\n",
    "            questions.append(voc_holder.from_word_idx(q))\n",
    "            losses.append(l)\n",
    "        print('{}'.format(len(losses)), end='...')\n",
    "            \n",
    "    return (np.array(questions), np.array(references), np.array(hypothesis), np.array(losses))\n",
    "\n",
    "(q, r, h, l) = export(test_x, test_y, eval_conf)\n",
    "df = pd.DataFrame(data = np.vstack((q, r, h, l)).T, \n",
    "                 columns = [\"Question\", \"Reference\", \"Hypothesis\", \"Loss\" ])\n",
    "df.head()"
   ]
  },
  {
   "cell_type": "code",
   "execution_count": null,
   "metadata": {},
   "outputs": [],
   "source": [
    "df.to_csv('/home/momchil/Desktop/seq2seq_all_dict.tsv', sep='\\t', encoding='utf-8')"
   ]
  },
  {
   "cell_type": "markdown",
   "metadata": {},
   "source": [
    "# Semantic similarity"
   ]
  },
  {
   "cell_type": "code",
   "execution_count": null,
   "metadata": {},
   "outputs": [],
   "source": [
    "def to_glove_vec(words):\n",
    "    glove_vecs = np.zeros(200)\n",
    "   \n",
    "    gen = (r for r in words if r > 0)\n",
    "    \n",
    "    i = 0.\n",
    "    for r in gen:\n",
    "        try:\n",
    "            glove_vecs += glove_weights[r]\n",
    "        except:\n",
    "            pass\n",
    "            \n",
    "        i += 1.\n",
    "    \n",
    "    return glove_vecs / i\n",
    "\n",
    "def to_binary_vec(words):\n",
    "    glove_vecs = np.zeros(hparams.src_vocab_size)\n",
    "    gen = (r for r in words if r > 0)\n",
    "\n",
    "    for r in gen:\n",
    "        glove_vecs[r] += 1.\n",
    "    return glove_vecs\n",
    "        \n",
    "\n",
    "def similarity(a, b, semantic=False):\n",
    "    a = to_word_idx(a)\n",
    "    b = to_word_idx(b)\n",
    "    \n",
    "    a = to_glove_vec(a) if semantic else to_binary_vec(a)\n",
    "    b = to_glove_vec(b) if semantic else to_binary_vec(b)\n",
    "    \n",
    "    return np.dot(a, b) / (np.linalg.norm(a) * np.linalg.norm(b))"
   ]
  },
  {
   "cell_type": "code",
   "execution_count": null,
   "metadata": {},
   "outputs": [],
   "source": [
    "feed_dict = next_batch(train_x, train_y, False, batch_size=1, beam_width=1)\n",
    "question = from_word_idx(feed_dict.get(encoder_inputs).T[0])\n",
    "answer = from_word_idx(feed_dict.get(target_labels)[0])\n",
    "ir_answers = query_es(question, 2, False)\n",
    "replies_greedy = sess.run(greedy_translations, feed_dict=feed_dict)\n",
    "\n",
    "ir_answer = ir_answers[1][1]\n",
    "greedy_answer = from_word_idx(replies_greedy[0])\n",
    "\n",
    "print(question)\n",
    "print(answer)\n",
    "print()\n",
    "print(ir_answer)\n",
    "print(greedy_answer)\n",
    "\n",
    "print(similarity(answer, ir_answer))\n",
    "print(similarity(answer, greedy_answer))\n",
    "print()\n",
    "print(similarity(answer, ir_answer, True))\n",
    "print(similarity(answer, greedy_answer, True))"
   ]
  },
  {
   "cell_type": "code",
   "execution_count": null,
   "metadata": {},
   "outputs": [],
   "source": [
    "def create_similarity_dataset(x, y, batch_size = hparams.batch_size):\n",
    "    similarity_data = []\n",
    "    for i in tqdm(range(x.shape[0] // batch_size)):\n",
    "        start = i * batch_size\n",
    "        feed_dict = next_batch(x, y, False, \n",
    "                               rand_idx=list(range(start, start + batch_size)),\n",
    "                               batch_size=batch_size,\n",
    "                               beam_width=1)\n",
    "\n",
    "        questions = [from_word_idx(x) for x in feed_dict.get(encoder_inputs).T]\n",
    "        answers = [from_word_idx(x) for x in feed_dict.get(target_labels)]\n",
    "        ir_answers = query_es_bulk(questions, 5, False)\n",
    "        #replies_greedy = sess.run(greedy_translations, feed_dict=feed_dict)\n",
    "\n",
    "        for j in range(batch_size):\n",
    "            question = questions[j]\n",
    "            answer = answers[j]\n",
    "            \n",
    "            ir_answer = ir_answers[j]\n",
    "            #greedy_answer = from_word_idx(replies_greedy[j])\n",
    "            \n",
    "            #similarity_data.append([question, greedy_answer, similarity(answer, greedy_answer)])\n",
    "            for ans in ir_answer:\n",
    "                similarity_data.append([question, ans, similarity(answer, ans, True)])\n",
    "                \n",
    "    return pd.DataFrame(similarity_data, columns = ['question', 'answer', 'similarity'])\n",
    "\n",
    "def to_feature_vec(ds, tfidf_vec):\n",
    "    questions_glove = ds.question.progress_apply(lambda x : to_glove_vec(to_word_idx(x)).tolist())\n",
    "    answers_glove = ds.answer.progress_apply(lambda x : to_glove_vec(to_word_idx(x)).tolist())\n",
    "\n",
    "    questions_glove = coo_matrix(np.array(questions_glove.values.tolist())).tocsr()\n",
    "    answers_glove = coo_matrix(np.array(answers_glove.values.tolist())).tocsr()\n",
    "    \n",
    "    questions_bow = tfidf_vec.transform(ds.question)\n",
    "    answers_bow = tfidf_vec.transform(ds.answer)\n",
    "    \n",
    "    features = hstack((questions_bow, answers_bow, \n",
    "                   questions_glove, answers_glove))\n",
    "    \n",
    "    return features"
   ]
  },
  {
   "cell_type": "code",
   "execution_count": null,
   "metadata": {},
   "outputs": [],
   "source": [
    "similarity_ds = create_similarity_dataset(train_x, train_y, 128)\n",
    "similarity_ds.head(20)"
   ]
  },
  {
   "cell_type": "code",
   "execution_count": null,
   "metadata": {},
   "outputs": [],
   "source": [
    "from scipy.sparse import coo_matrix\n",
    "from scipy.sparse import hstack\n",
    "from sklearn.feature_extraction.text import TfidfVectorizer\n",
    "\n",
    "from sklearn import linear_model\n",
    "from sklearn.metrics import mean_squared_error\n",
    "\n",
    "last_idx = int(similarity_ds.shape[0] * 0.8)"
   ]
  },
  {
   "cell_type": "code",
   "execution_count": null,
   "metadata": {},
   "outputs": [],
   "source": [
    "tfidf_vec = TfidfVectorizer(ngram_range=(1, 2), tokenizer=tweet_tokenize)\n",
    "tfidf_vec.fit(similarity_ds[:last_idx].question + ' ' + similarity_ds[:last_idx].answer)"
   ]
  },
  {
   "cell_type": "code",
   "execution_count": null,
   "metadata": {},
   "outputs": [],
   "source": [
    "regr = linear_model.Ridge(alpha=1., max_iter=100, solver='auto')\n",
    "\n",
    "train_features = to_feature_vec(similarity_ds[:last_idx], tfidf_vec)\n",
    "test_features = to_feature_vec(similarity_ds[last_idx:], tfidf_vec)\n",
    "\n",
    "regr.fit(train_features, similarity_ds.similarity[:last_idx])\n",
    "\n",
    "# Make predictions using the testing set\n",
    "print(mean_squared_error(similarity_ds.similarity[:last_idx], \n",
    "                             regr.predict(train_features)))\n",
    "\n",
    "print(mean_squared_error(similarity_ds.similarity[last_idx:], \n",
    "                             regr.predict(test_features)))\n",
    "test_cpy = similarity_ds[last_idx:] \n",
    "test_cpy['predicted'] = regr.predict(test_features)\n",
    "\n",
    "del train_features, test_features\n",
    "test_cpy.head(10)"
   ]
  },
  {
   "cell_type": "code",
   "execution_count": null,
   "metadata": {},
   "outputs": [],
   "source": [
    "last_idx = int(similarity_ds.shape[0] * 0.8)\n",
    "\n",
    "train_x = similarity_ds.loc[:last_idx, ['question', 'answer']]\n",
    "test_x = similarity_ds.loc[last_idx:, ['question', 'answer']]\n",
    "\n",
    "train_y = similarity_ds.loc[:last_idx, ['similarity']]\n",
    "test_y = similarity_ds.loc[last_idx:, ['similarity']]"
   ]
  },
  {
   "cell_type": "code",
   "execution_count": null,
   "metadata": {},
   "outputs": [],
   "source": [
    "def next_batch_(x, y, train, rand_idx = None, weights = None, \n",
    "               beam_width = hparams.beam_width, batch_size = hparams.batch_size,\n",
    "               go_backwards = False):\n",
    "    if rand_idx is None:\n",
    "        rand_idx = random.sample(list(range(len(x))), batch_size)\n",
    "    ques = np.array(list(map(to_word_idx, x.iloc[rand_idx].question.values)))\n",
    "    ans = np.array(list(map(to_word_idx, x.iloc[rand_idx].answer.values)))\n",
    "    \n",
    "    q_lengths = np.count_nonzero(ques, axis=1)\n",
    "    a_lengths = np.count_nonzero(ans, axis=1)\n",
    "    \n",
    "    feed_dict = {\n",
    "        question_inputs: ques.T,\n",
    "        question_lengths:q_lengths,\n",
    "        targets: y.iloc[rand_idx].values,\n",
    "        answer_inputs: ans.T,\n",
    "        answer_lengths: a_lengths,\n",
    "        keep_prob: (1 - hparams.dropout) if (train) else 1.,\n",
    "    }\n",
    "\n",
    "    return feed_dict"
   ]
  },
  {
   "cell_type": "code",
   "execution_count": null,
   "metadata": {},
   "outputs": [],
   "source": [
    "# For debug purpose.\n",
    "tf.reset_default_graph()\n",
    "\n",
    "\n",
    "\n",
    "targets = tf.placeholder(tf.float32, name='similarties')\n",
    "\n",
    "question_inputs = tf.placeholder(\n",
    "    tf.int32, shape=(None, None), name=\"question_inputs\")\n",
    "answer_inputs = tf.placeholder(\n",
    "    tf.int32, shape=(None, None), name=\"answer_inputs\")\n",
    "keep_prob = tf.placeholder_with_default(1.0, shape=())\n",
    "\n",
    "question_lengths = tf.placeholder(tf.int32, [None], name=\"question_lengths\")\n",
    "answer_lengths = tf.placeholder(tf.int32, [None], name=\"answer_lengths\")\n",
    "\n",
    "shared_embedding = tf.get_variable(\n",
    "        \"shared_embedding\", [hparams.src_vocab_size, hparams.embedding_size])\n",
    "\n",
    "def _rnn_cell(num_units, keep_prob, state_is_tuple = True):\n",
    "    #initializer=tf.glorot_uniform_initializer()\n",
    "    \n",
    "    #Luong init https://arxiv.org/pdf/1508.04025.pdf \n",
    "    initializer=tf.random_uniform_initializer(-0.1, 0.1)\n",
    "    \n",
    "    _cell = (tf.nn.rnn_cell.LSTMCell(num_units, state_is_tuple=state_is_tuple, initializer=initializer, \n",
    "                                    name = ''.join(random.choice(string.ascii_uppercase + string.digits) for _ in range(10))))\n",
    "    _cell = tf.contrib.rnn.DropoutWrapper(_cell, output_keep_prob=keep_prob, variational_recurrent=True, dtype=tf.float32)\n",
    "    return _cell\n",
    "\n",
    "def build_rnn_cell(num_units, keep_prob, state_is_tuple = True, layers = 1):\n",
    "    if (layers == 1):\n",
    "        return _rnn_cell(num_units, keep_prob, state_is_tuple)\n",
    "    else:\n",
    "        return tf.contrib.rnn.MultiRNNCell(\n",
    "            [_rnn_cell(num_units, keep_prob, state_is_tuple) for i in range(layers)],\n",
    "            state_is_tuple=state_is_tuple)\n",
    "\n",
    "q_cell = build_rnn_cell(hparams.num_units, keep_prob, layers = 1, state_is_tuple=True)\n",
    "a_cell = build_rnn_cell(hparams.num_units, keep_prob, layers = 1, state_is_tuple=True)\n",
    "\n",
    "_, question_state = tf.nn.dynamic_rnn(\n",
    "        q_cell, tf.nn.embedding_lookup(shared_embedding, question_inputs), \n",
    "        time_major=False, \n",
    "        sequence_length=question_lengths, \n",
    "        dtype=tf.float32)\n",
    "    \n",
    "_, answer_state = tf.nn.dynamic_rnn(\n",
    "        a_cell, tf.nn.embedding_lookup(shared_embedding, answer_inputs), \n",
    "        time_major=False, \n",
    "        sequence_length=answer_lengths, \n",
    "        dtype=tf.float32)\n",
    "\n",
    "concat_state = tf.concat([question_state.h, answer_state.h], -1)\n",
    "\n",
    "outputs = tf.layers.dense(concat_state, 1)\n",
    "\n",
    "train_loss = tf.sqrt(tf.reduce_mean(tf.squared_difference(outputs, targets)))\n",
    "\n",
    "# Train\n",
    "global_step = tf.Variable(0, name='global_step', trainable=False)\n",
    "\n",
    "# Calculate and clip gradients\n",
    "params = tf.trainable_variables()\n",
    "gradients = tf.gradients(train_loss, params)\n",
    "clipped_gradients, _ = tf.clip_by_global_norm(gradients,\n",
    "                                              hparams.max_gradient_norm)\n",
    "\n",
    "iters_per_epoch = train_x.shape[0] // hparams.batch_size\n",
    "\n",
    "#optimizer = tf.train.AdamOptimizer(learning_rate)\n",
    "optimizer = tf.train.GradientDescentOptimizer(1.)#hparams.learning_rate)\n",
    "train_op = optimizer.apply_gradients(\n",
    "    zip(clipped_gradients, params), global_step=global_step)\n",
    "\n",
    "\n",
    "sess = tf.Session()\n",
    "sess.run(tf.global_variables_initializer())"
   ]
  },
  {
   "cell_type": "code",
   "execution_count": null,
   "metadata": {},
   "outputs": [],
   "source": [
    "# Train\n",
    "iters_per_epoch = train_x.shape[0] // hparams.batch_size\n",
    "try:\n",
    "    losses = []\n",
    "    test_losses = []\n",
    "\n",
    "    max_shape = iters_per_epoch * hparams.batch_size\n",
    "    for epoch in range(hparams.max_epochs):\n",
    "        print('\\nStarting epoch = {}/{}'.format(epoch + 1, hparams.max_epochs))\n",
    "        \n",
    "        batch_ids = np.array(list(range(train_x.shape[0])))\n",
    "        np.random.shuffle(batch_ids)\n",
    "        \n",
    "        batch_ids = batch_ids[:max_shape].reshape((-1, hparams.batch_size))\n",
    "        \n",
    "        perc = 0\n",
    "        t_start = time.time()\n",
    "        for i in tqdm(range(iters_per_epoch)):\n",
    "            step = sess.run(global_step)\n",
    "            feed_dict = next_batch_(train_x, train_y, True, rand_idx=None, \n",
    "                                   weights=train_weights, beam_width=1)\n",
    "            _, loss_value = sess.run([train_op, train_loss], feed_dict=feed_dict)\n",
    "            losses.append(loss_value)\n",
    "\n",
    "        t_epoch_end = time.time() - t_start\n",
    "        \n",
    "        t_start = time.time()\n",
    "        for i in tqdm(range(test_x.shape[0] // hparams.batch_size)):\n",
    "            start = i * hparams.batch_size\n",
    "            feed_dict = next_batch_(test_x, test_y, False, rand_idx=list(range(start, start + hparams.batch_size)),\n",
    "                                  weights=None, beam_width=1)\n",
    "            test_loss_value = sess.run([train_loss], feed_dict=feed_dict)\n",
    "            test_losses.append(test_loss_value)\n",
    "    \n",
    "        train_loss_value = np.mean(losses)\n",
    "        test_loss_value = np.mean(test_losses)\n",
    "        \n",
    "        t_test_end = time.time() - t_start\n",
    "        \n",
    "        print('\\nloss = {}, test_loss = {}'\n",
    "              .format(train_loss_value, test_loss_value))\n",
    "        print('Train elapsed {}, Test elapsed {}'.format(t_epoch_end, t_test_end))\n",
    "        \n",
    "        losses = []\n",
    "        test_losses = []\n",
    "        \n",
    "except KeyboardInterrupt:\n",
    "    print(\"\\nHalting training from keyboard interrupt.\")"
   ]
  },
  {
   "cell_type": "code",
   "execution_count": null,
   "metadata": {},
   "outputs": [],
   "source": [
    "test_cpy = similarity_ds[last_idx:last_idx+128]\n",
    "feed_dict = next_batch_(similarity_ds[last_idx:last_idx+128], similarity_ds[last_idx:last_idx+128].similarity,\n",
    "                               False, rand_idx=None, \n",
    "                               weights=None, beam_width=1,\n",
    "                               batch_size = 128)\n",
    "test_cpy['predicted'] = sess.run(outputs, feed_dict=feed_dict)\n",
    "test_cpy.head(10)"
   ]
  },
  {
   "cell_type": "code",
   "execution_count": null,
   "metadata": {},
   "outputs": [],
   "source": []
  }
 ],
 "metadata": {
  "hide_input": false,
  "kernelspec": {
   "display_name": "Python 3",
   "language": "python",
   "name": "python3"
  },
  "language_info": {
   "codemirror_mode": {
    "name": "ipython",
    "version": 3
   },
   "file_extension": ".py",
   "mimetype": "text/x-python",
   "name": "python",
   "nbconvert_exporter": "python",
   "pygments_lexer": "ipython3",
   "version": "3.5.2"
  },
  "varInspector": {
   "cols": {
    "lenName": 16,
    "lenType": 16,
    "lenVar": 40
   },
   "kernels_config": {
    "python": {
     "delete_cmd_postfix": "",
     "delete_cmd_prefix": "del ",
     "library": "var_list.py",
     "varRefreshCmd": "print(var_dic_list())"
    },
    "r": {
     "delete_cmd_postfix": ") ",
     "delete_cmd_prefix": "rm(",
     "library": "var_list.r",
     "varRefreshCmd": "cat(var_dic_list()) "
    }
   },
   "position": {
    "height": "554px",
    "left": "1279px",
    "right": "234px",
    "top": "159px",
    "width": "342px"
   },
   "types_to_exclude": [
    "module",
    "function",
    "builtin_function_or_method",
    "instance",
    "_Feature"
   ],
   "window_display": false
  }
 },
 "nbformat": 4,
 "nbformat_minor": 2
}
