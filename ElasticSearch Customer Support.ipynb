{
 "cells": [
  {
   "cell_type": "code",
   "execution_count": 1,
   "metadata": {},
   "outputs": [
    {
     "name": "stderr",
     "output_type": "stream",
     "text": [
      "/home/momchil/.local/lib/python3.5/site-packages/h5py/__init__.py:36: FutureWarning: Conversion of the second argument of issubdtype from `float` to `np.floating` is deprecated. In future, it will be treated as `np.float64 == np.dtype(float).type`.\n",
      "  from ._conv import register_converters as _register_converters\n"
     ]
    },
    {
     "name": "stdout",
     "output_type": "stream",
     "text": [
      "Library versions:\n",
      "tensorflow:1.7.0\n",
      "pandas:0.22.0\n",
      "numpy:1.14.2\n"
     ]
    },
    {
     "data": {
      "application/vnd.jupyter.widget-view+json": {
       "model_id": "2881ce45f2a9476899d433b239c81e7b",
       "version_major": 2,
       "version_minor": 0
      },
      "text/html": [
       "<p>Failed to display Jupyter Widget of type <code>HBox</code>.</p>\n",
       "<p>\n",
       "  If you're reading this message in the Jupyter Notebook or JupyterLab Notebook, it may mean\n",
       "  that the widgets JavaScript is still loading. If this message persists, it\n",
       "  likely means that the widgets JavaScript library is either not installed or\n",
       "  not enabled. See the <a href=\"https://ipywidgets.readthedocs.io/en/stable/user_install.html\">Jupyter\n",
       "  Widgets Documentation</a> for setup instructions.\n",
       "</p>\n",
       "<p>\n",
       "  If you're reading this message in another frontend (for example, a static\n",
       "  rendering on GitHub or <a href=\"https://nbviewer.jupyter.org/\">NBViewer</a>),\n",
       "  it may mean that your frontend doesn't currently support widgets.\n",
       "</p>\n"
      ],
      "text/plain": [
       "HBox(children=(IntProgress(value=1, bar_style='info', max=1), HTML(value='')))"
      ]
     },
     "metadata": {},
     "output_type": "display_data"
    },
    {
     "name": "stdout",
     "output_type": "stream",
     "text": [
      "\n"
     ]
    }
   ],
   "source": [
    "import re\n",
    "import random\n",
    "import string\n",
    "import warnings\n",
    "\n",
    "import importlib\n",
    "\n",
    "import customersupport.common\n",
    "import customersupport.evaluation\n",
    "import customersupport.evaluation.eval\n",
    "\n",
    "print('Library versions:')\n",
    "\n",
    "import tensorflow as tf\n",
    "print('tensorflow:{}'.format(tf.__version__))\n",
    "import pandas as pd\n",
    "print('pandas:{}'.format(pd.__version__))\n",
    "import numpy as np\n",
    "print('numpy:{}'.format(np.__version__))\n",
    "\n",
    "from IPython.display import SVG\n",
    "\n",
    "from tqdm import tqdm_notebook as tqdm  # Special jupyter notebook progress bar\n",
    "\n",
    "from tensorflow.python.layers import core as layers_core\n",
    "\n",
    "from datetime import datetime\n",
    "\n",
    "from elasticsearch import Elasticsearch\n",
    "from elasticsearch import helpers\n",
    "\n",
    "from customersupport.common.vocab import VocabHolder\n",
    "from customersupport.common.dataset import CustomerSupportDataset\n",
    "\n",
    "from customersupport.evaluation.eval import evaluate_words_index, format_metrics, get_evaluation_conf, strip_punkt\n",
    "\n",
    "importlib.reload(customersupport.common.vocab)\n",
    "importlib.reload(customersupport.common.dataset)\n",
    "importlib.reload(customersupport.evaluation)\n",
    "importlib.reload(customersupport.evaluation.eval)\n",
    "\n",
    "warnings.simplefilter('ignore')\n",
    "\n",
    "tqdm().pandas()  # Enable tracking of progress in dataframe `apply` calls"
   ]
  },
  {
   "cell_type": "code",
   "execution_count": 2,
   "metadata": {},
   "outputs": [
    {
     "name": "stdout",
     "output_type": "stream",
     "text": [
      "WARNING:tensorflow:From /home/momchil/.local/lib/python3.5/site-packages/tensorflow/contrib/learn/python/learn/datasets/base.py:198: retry (from tensorflow.contrib.learn.python.learn.datasets.base) is deprecated and will be removed in a future version.\n",
      "Instructions for updating:\n",
      "Use the retry module or similar alternatives.\n"
     ]
    }
   ],
   "source": [
    "# 8192 - large enough for demonstration, larger values make network training slower\n",
    "MAX_VOCAB_SIZE = 2**13\n",
    "# seq2seq generally relies on fixed length message vectors - longer messages provide more info\n",
    "# but result in slower training and larger networks\n",
    "MAX_MESSAGE_LEN = 70\n",
    "\n",
    "hparams = tf.contrib.training.HParams(\n",
    "    # Larger batch sizes generally reach the average response faster, but small batch sizes are\n",
    "    # required for the model to learn nuanced responses.  Also, GPU memory limits max batch size.\n",
    "    batch_size=128,\n",
    "    encoder_length=MAX_MESSAGE_LEN,\n",
    "    decoder_length=MAX_MESSAGE_LEN,\n",
    "    # Embedding size for whole messages, same trade off as word embeddings\n",
    "    num_units=512,\n",
    "    src_vocab_size=MAX_VOCAB_SIZE,\n",
    "    # Embedding size for words - gives a trade off between expressivity of words and network size\n",
    "    embedding_size=200,\n",
    "    tgt_vocab_size=MAX_VOCAB_SIZE,\n",
    "    # Helps regularize network and prevent overfitting.\n",
    "    # High learning rate helps model reach average response faster, but can make it hard to \n",
    "    # converge on nuanced responses\n",
    "    learning_rate = 0.001, #0.0005,\n",
    "    max_gradient_norm = 5.0,\n",
    "    beam_width = 10,\n",
    "    use_attention = True,\n",
    "    enc_num_layers = 2,\n",
    "    dec_num_layers = 2,\n",
    "    cell_type = 'bi',\n",
    "    rnn_type = 'gru',\n",
    "    max_epochs = 20,\n",
    "    dropout = 0.2,\n",
    "    use_glove = True,\n",
    "    l2_reg = 0., #0005,\n",
    "    decay_rate = .9,\n",
    "    glove_path = '/home/momchil/Storage/Projects/Python/Data/glove.twitter.27B/glove.twitter.27B.200d.txt',\n",
    "    tweets_path = '/home/momchil/Storage/Projects/Python/Data/customer-support-on-twitter/twcs-conv_ids_clean.csv',\n",
    "    # Ngram count for ROUGE and BLEU\n",
    "    max_order = 2,\n",
    "    train_size = 0.8,\n",
    "    train_time_diff = 5.,\n",
    "    first_day = 0, #5#15\n",
    "    last_day = 60, #33#23,\n",
    "    evaluation_metrics = [\"bleu\", \"rouge_l\", \"embedding_average\", \"vector_extrema\", \"greedy_matching\"],\n",
    "    training_metrics = [\"bleu\", \"rouge_l\", \"embedding_average\", \"vector_extrema\", \"greedy_matching\"],\n",
    "    companies = ['AppleSupport']\n",
    ")"
   ]
  },
  {
   "cell_type": "code",
   "execution_count": 3,
   "metadata": {},
   "outputs": [
    {
     "name": "stdout",
     "output_type": "stream",
     "text": [
      "Done support_author (984679, 9)\n",
      "Replacing anonymized screen names in X...\n"
     ]
    },
    {
     "data": {
      "application/vnd.jupyter.widget-view+json": {
       "model_id": "9475c5b9383c47babf56ed22fb7ccbe2",
       "version_major": 2,
       "version_minor": 0
      },
      "text/html": [
       "<p>Failed to display Jupyter Widget of type <code>HBox</code>.</p>\n",
       "<p>\n",
       "  If you're reading this message in the Jupyter Notebook or JupyterLab Notebook, it may mean\n",
       "  that the widgets JavaScript is still loading. If this message persists, it\n",
       "  likely means that the widgets JavaScript library is either not installed or\n",
       "  not enabled. See the <a href=\"https://ipywidgets.readthedocs.io/en/stable/user_install.html\">Jupyter\n",
       "  Widgets Documentation</a> for setup instructions.\n",
       "</p>\n",
       "<p>\n",
       "  If you're reading this message in another frontend (for example, a static\n",
       "  rendering on GitHub or <a href=\"https://nbviewer.jupyter.org/\">NBViewer</a>),\n",
       "  it may mean that your frontend doesn't currently support widgets.\n",
       "</p>\n"
      ],
      "text/plain": [
       "HBox(children=(IntProgress(value=0, max=105179), HTML(value='')))"
      ]
     },
     "metadata": {},
     "output_type": "display_data"
    },
    {
     "name": "stdout",
     "output_type": "stream",
     "text": [
      "\n",
      "Replacing anonymized screen names in Y...\n"
     ]
    },
    {
     "data": {
      "application/vnd.jupyter.widget-view+json": {
       "model_id": "0c1a32b00a784b2faa3f9cfbd7ed16cc",
       "version_major": 2,
       "version_minor": 0
      },
      "text/html": [
       "<p>Failed to display Jupyter Widget of type <code>HBox</code>.</p>\n",
       "<p>\n",
       "  If you're reading this message in the Jupyter Notebook or JupyterLab Notebook, it may mean\n",
       "  that the widgets JavaScript is still loading. If this message persists, it\n",
       "  likely means that the widgets JavaScript library is either not installed or\n",
       "  not enabled. See the <a href=\"https://ipywidgets.readthedocs.io/en/stable/user_install.html\">Jupyter\n",
       "  Widgets Documentation</a> for setup instructions.\n",
       "</p>\n",
       "<p>\n",
       "  If you're reading this message in another frontend (for example, a static\n",
       "  rendering on GitHub or <a href=\"https://nbviewer.jupyter.org/\">NBViewer</a>),\n",
       "  it may mean that your frontend doesn't currently support widgets.\n",
       "</p>\n"
      ],
      "text/plain": [
       "HBox(children=(IntProgress(value=0, max=105179), HTML(value='')))"
      ]
     },
     "metadata": {},
     "output_type": "display_data"
    },
    {
     "name": "stdout",
     "output_type": "stream",
     "text": [
      "\n",
      "Fitting CountVectorizer on X and Y text data...\n"
     ]
    },
    {
     "data": {
      "application/vnd.jupyter.widget-view+json": {
       "model_id": "49512542a025428cbcb0fc0d86155b44",
       "version_major": 2,
       "version_minor": 0
      },
      "text/html": [
       "<p>Failed to display Jupyter Widget of type <code>HBox</code>.</p>\n",
       "<p>\n",
       "  If you're reading this message in the Jupyter Notebook or JupyterLab Notebook, it may mean\n",
       "  that the widgets JavaScript is still loading. If this message persists, it\n",
       "  likely means that the widgets JavaScript library is either not installed or\n",
       "  not enabled. See the <a href=\"https://ipywidgets.readthedocs.io/en/stable/user_install.html\">Jupyter\n",
       "  Widgets Documentation</a> for setup instructions.\n",
       "</p>\n",
       "<p>\n",
       "  If you're reading this message in another frontend (for example, a static\n",
       "  rendering on GitHub or <a href=\"https://nbviewer.jupyter.org/\">NBViewer</a>),\n",
       "  it may mean that your frontend doesn't currently support widgets.\n",
       "</p>\n"
      ],
      "text/plain": [
       "HBox(children=(IntProgress(value=0, max=49626), HTML(value='')))"
      ]
     },
     "metadata": {},
     "output_type": "display_data"
    },
    {
     "name": "stdout",
     "output_type": "stream",
     "text": [
      "\n",
      "Number of known words 7364\n",
      "Learned vocab of 8192 items.\n",
      "Calculating word indexes for X...\n"
     ]
    },
    {
     "data": {
      "application/vnd.jupyter.widget-view+json": {
       "model_id": "d6f2d9f6dbac42d0aff9e92166b55c1d",
       "version_major": 2,
       "version_minor": 0
      },
      "text/html": [
       "<p>Failed to display Jupyter Widget of type <code>HBox</code>.</p>\n",
       "<p>\n",
       "  If you're reading this message in the Jupyter Notebook or JupyterLab Notebook, it may mean\n",
       "  that the widgets JavaScript is still loading. If this message persists, it\n",
       "  likely means that the widgets JavaScript library is either not installed or\n",
       "  not enabled. See the <a href=\"https://ipywidgets.readthedocs.io/en/stable/user_install.html\">Jupyter\n",
       "  Widgets Documentation</a> for setup instructions.\n",
       "</p>\n",
       "<p>\n",
       "  If you're reading this message in another frontend (for example, a static\n",
       "  rendering on GitHub or <a href=\"https://nbviewer.jupyter.org/\">NBViewer</a>),\n",
       "  it may mean that your frontend doesn't currently support widgets.\n",
       "</p>\n"
      ],
      "text/plain": [
       "HBox(children=(IntProgress(value=0, max=49626), HTML(value='')))"
      ]
     },
     "metadata": {},
     "output_type": "display_data"
    },
    {
     "name": "stdout",
     "output_type": "stream",
     "text": [
      "\n",
      "Calculating word indexes for Y...\n"
     ]
    },
    {
     "data": {
      "application/vnd.jupyter.widget-view+json": {
       "model_id": "49b605d1aa4049fab0bc11963f0e4ddb",
       "version_major": 2,
       "version_minor": 0
      },
      "text/html": [
       "<p>Failed to display Jupyter Widget of type <code>HBox</code>.</p>\n",
       "<p>\n",
       "  If you're reading this message in the Jupyter Notebook or JupyterLab Notebook, it may mean\n",
       "  that the widgets JavaScript is still loading. If this message persists, it\n",
       "  likely means that the widgets JavaScript library is either not installed or\n",
       "  not enabled. See the <a href=\"https://ipywidgets.readthedocs.io/en/stable/user_install.html\">Jupyter\n",
       "  Widgets Documentation</a> for setup instructions.\n",
       "</p>\n",
       "<p>\n",
       "  If you're reading this message in another frontend (for example, a static\n",
       "  rendering on GitHub or <a href=\"https://nbviewer.jupyter.org/\">NBViewer</a>),\n",
       "  it may mean that your frontend doesn't currently support widgets.\n",
       "</p>\n"
      ],
      "text/plain": [
       "HBox(children=(IntProgress(value=0, max=49626), HTML(value='')))"
      ]
     },
     "metadata": {},
     "output_type": "display_data"
    },
    {
     "name": "stdout",
     "output_type": "stream",
     "text": [
      "\n",
      "Training data of shape (45582, 70) and test data of shape (4044, 70).\n",
      "count    45582.000000\n",
      "mean         1.000000\n",
      "std          1.318587\n",
      "min          0.019216\n",
      "25%          0.123510\n",
      "50%          0.566117\n",
      "75%          1.191551\n",
      "max          6.313764\n",
      "dtype: float64\n",
      "count    4044.000000\n",
      "mean        1.000000\n",
      "std         0.151071\n",
      "min         0.737908\n",
      "25%         0.878444\n",
      "50%         1.003007\n",
      "75%         1.116925\n",
      "max         1.249495\n",
      "dtype: float64\n",
      "CPU times: user 4min, sys: 3.6 s, total: 4min 3s\n",
      "Wall time: 4min 2s\n"
     ]
    }
   ],
   "source": [
    "%%time\n",
    "cs_data = CustomerSupportDataset(hparams)\n",
    "\n",
    "#& (y_text.str.contains('help') ^ True)\n",
    "cs_data.process_utterances(['direct message'])\n",
    "\n",
    "voc_holder = VocabHolder(hparams)\n",
    "analyzer = voc_holder.fit(cs_data.x_text, cs_data.y_text, hparams.src_vocab_size)\n",
    "\n",
    "cs_data.text_to_vec(hparams, voc_holder)\n",
    "cs_data.train_test_split(hparams, do_random=False)\n",
    "\n",
    "train_x = cs_data.x_text.iloc[list(cs_data.train_idx)].dropna()\n",
    "train_y = cs_data.y_text.iloc[list(cs_data.train_idx)].dropna()\n",
    "\n",
    "test_x = cs_data.x_text.iloc[list(cs_data.test_idx)].dropna()\n",
    "test_y = cs_data.y_text.iloc[list(cs_data.test_idx)].dropna()"
   ]
  },
  {
   "cell_type": "code",
   "execution_count": 4,
   "metadata": {},
   "outputs": [],
   "source": [
    "def create_doc(text_x, text_y, context, author):\n",
    "    doc = {}\n",
    "    doc['author'] = author\n",
    "    doc['text_x'] = text_x\n",
    "    doc['text_y'] = text_y\n",
    "    doc['context'] = context\n",
    "    doc['timestamp'] = datetime.now()\n",
    "\n",
    "    return doc\n",
    "\n",
    "\n",
    "def create_index(es):\n",
    "    res = es.indices.delete(index='test-index', ignore=[400, 404])\n",
    "    mapping = '''\n",
    "    {  \n",
    "      \"mappings\":{  \n",
    "        \"tweet\":{  \n",
    "          \"properties\":{  \n",
    "            \"text_x\": { \n",
    "              \"type\": \"text\",\n",
    "              \"fields\": {\n",
    "                \"english\": { \n",
    "                  \"type\":     \"text\",\n",
    "                  \"analyzer\": \"english\",\n",
    "                  \"tokenizer\": {\n",
    "                    \"ngram_token\": {\n",
    "                      \"type\": \"ngram\",\n",
    "                      \"min_gram\": 1,\n",
    "                      \"max_gram\": 3,\n",
    "                      \"token_chars\": [\n",
    "                        \"whitespace\",\n",
    "                        \"punctuation\"\n",
    "                      ]\n",
    "                    }\n",
    "                  }\n",
    "                }\n",
    "              }\n",
    "            },\n",
    "            \"text_y\": { \n",
    "              \"type\": \"text\",\n",
    "              \"fields\": {\n",
    "                \"english\": { \n",
    "                  \"type\":     \"text\",\n",
    "                  \"analyzer\": \"english\",\n",
    "                  \"tokenizer\": {\n",
    "                    \"ngram_token\": {\n",
    "                      \"type\": \"ngram\",\n",
    "                      \"min_gram\": 1,\n",
    "                      \"max_gram\": 3,\n",
    "                      \"token_chars\": [\n",
    "                        \"whitespace\",\n",
    "                        \"punctuation\"\n",
    "                      ]\n",
    "                    }\n",
    "                }\n",
    "              }\n",
    "            },\n",
    "            \"context\": { \n",
    "              \"type\": \"text\",\n",
    "              \"fields\": {\n",
    "                \"english\": { \n",
    "                  \"type\":     \"text\",\n",
    "                  \"analyzer\": \"english\",\n",
    "                  \"tokenizer\": {\n",
    "                    \"ngram_token\": {\n",
    "                      \"type\": \"ngram\",\n",
    "                      \"min_gram\": 1,\n",
    "                      \"max_gram\": 3,\n",
    "                      \"token_chars\": [\n",
    "                        \"whitespace\",\n",
    "                        \"punctuation\"\n",
    "                      ]\n",
    "                    }\n",
    "                }\n",
    "              }\n",
    "            },\n",
    "            \"author\": { \n",
    "              \"type\": \"text\"\n",
    "              }\n",
    "            }\n",
    "          }\n",
    "        }\n",
    "      }}'''\n",
    "\n",
    "    es.indices.create(index='test-index', ignore=400, body=mapping)\n",
    "\n",
    "\n",
    "def fill_index(es, text_x, text_y, batch=10000):\n",
    "    actions = []\n",
    "    for id, (tx, ty) in enumerate(zip(text_x, text_y)):\n",
    "        doc = create_doc(tx, ty, '', 'AppleSupport')\n",
    "        #res = es.index(index=\"test-index\", doc_type='tweet', id=id, body=doc)\n",
    "\n",
    "        action = {\n",
    "            \"_index\": \"test-index\",\n",
    "            \"_type\": \"tweet\",\n",
    "            #\"_id\": id,\n",
    "            \"_source\": doc\n",
    "        }\n",
    "        actions.append(action)\n",
    "        if (len(actions) == batch):\n",
    "            print(\"Pushed {} rows\".format(len(actions)))\n",
    "            helpers.bulk(es, actions)\n",
    "            del actions[:]\n",
    "\n",
    "    if (len(actions) > 0):\n",
    "        helpers.bulk(es, actions)\n",
    "\n",
    "\n",
    "def query_es(text_x, num_hits = 1, is_array = True, query_field = 'text_x'):\n",
    "    if (is_array):\n",
    "        text_x = from_word_idx(text_x)\n",
    "\n",
    "    #res = es.search(index=\"test-index\", body={\"query\": {\"match\": { \"text_x\": text_x }}, 'from': 1, 'size': 10})\n",
    "    res = es.search(\n",
    "        index=\"test-index\",\n",
    "        body={\n",
    "            \"query\": {\n",
    "                \"bool\": {\n",
    "                    \"should\": [{\n",
    "                        \"match\": {\n",
    "                            query_field: {\n",
    "                                \"query\": text_x,\n",
    "                                \"boost\": 1\n",
    "                            }\n",
    "                        }\n",
    "                    }, {\n",
    "                        \"match\": {\n",
    "                            \"context\": {\n",
    "                                \"query\": '',\n",
    "                                \"boost\": 1\n",
    "                            }\n",
    "                        }\n",
    "                    }]\n",
    "                }\n",
    "            },\n",
    "            'from': 0,\n",
    "            'size': num_hits\n",
    "        })\n",
    "    \n",
    "    scores = [hit['_score'] for hit in res['hits']['hits']]\n",
    "    \n",
    "    #idx = np.random.choice(list(range(len(scores))), p = scores / np.sum(scores))\n",
    "    #res = es.search(index=\"test-index\", body={\"query\": {\"more_like_this\": { \"fields\": ['text_x'] , 'like': text_x}}})\n",
    "    #res = es.search(index=\"test-index\", body={\"query\": {\"match\": { \"text_x\": text_x }}, 'from': 1, 'size': 10})\n",
    "\n",
    "    return [(x['_source']['text_x'], x['_source']['text_y']) for x in res['hits']['hits']]\n",
    "\n",
    "def query_es_bulk(texts_x, num_hits = 1, is_array = True, query_field = 'text_x'):\n",
    "    if (is_array):\n",
    "        texts_x = from_word_idx(texts_x)\n",
    "\n",
    "    bodies = []\n",
    "    for text_x in texts_x:\n",
    "        bodies.append({\"index\": \"test-index\", \"type\": \"tweet\"},)\n",
    "        bodies.append({\n",
    "            \"query\": {\n",
    "                \"bool\": {\n",
    "                    \"should\": [{\n",
    "                        \"match\": {\n",
    "                            query_field: {\n",
    "                                \"query\": text_x,\n",
    "                                \"boost\": 5\n",
    "                            }\n",
    "                        }\n",
    "                    }, {\n",
    "                        \"match\": {\n",
    "                            \"context\": {\n",
    "                                \"query\": '',\n",
    "                                \"boost\": 1\n",
    "                            }\n",
    "                        }\n",
    "                    }]\n",
    "                }\n",
    "            },\n",
    "            #'from': 0,\n",
    "            'size': num_hits\n",
    "        })\n",
    "    res = es.msearch(bodies)\n",
    "    \n",
    "    return [[x['_source']['text_y'] for x in r['hits']['hits']] for r in res['responses']]"
   ]
  },
  {
   "cell_type": "code",
   "execution_count": 5,
   "metadata": {},
   "outputs": [],
   "source": [
    "es = Elasticsearch()\n",
    "if not es.indices.exists(index=\"test-index\"):\n",
    "    create_index(es)\n",
    "    fill_index(es, train_x, train_y, 10000)"
   ]
  },
  {
   "cell_type": "code",
   "execution_count": 11,
   "metadata": {},
   "outputs": [
    {
     "data": {
      "application/vnd.jupyter.widget-view+json": {
       "model_id": "ab6b838e2d8245eebaf6870c597f2c46",
       "version_major": 2,
       "version_minor": 0
      },
      "text/html": [
       "<p>Failed to display Jupyter Widget of type <code>HBox</code>.</p>\n",
       "<p>\n",
       "  If you're reading this message in the Jupyter Notebook or JupyterLab Notebook, it may mean\n",
       "  that the widgets JavaScript is still loading. If this message persists, it\n",
       "  likely means that the widgets JavaScript library is either not installed or\n",
       "  not enabled. See the <a href=\"https://ipywidgets.readthedocs.io/en/stable/user_install.html\">Jupyter\n",
       "  Widgets Documentation</a> for setup instructions.\n",
       "</p>\n",
       "<p>\n",
       "  If you're reading this message in another frontend (for example, a static\n",
       "  rendering on GitHub or <a href=\"https://nbviewer.jupyter.org/\">NBViewer</a>),\n",
       "  it may mean that your frontend doesn't currently support widgets.\n",
       "</p>\n"
      ],
      "text/plain": [
       "HBox(children=(IntProgress(value=0, max=4044), HTML(value='')))"
      ]
     },
     "metadata": {},
     "output_type": "display_data"
    },
    {
     "name": "stdout",
     "output_type": "stream",
     "text": [
      "\n"
     ]
    }
   ],
   "source": [
    "references = []\n",
    "hypothesis = []\n",
    "\n",
    "for i in tqdm(range(len(test_x))):\n",
    "    #r = voc_holder.to_word_idx(, -1)\n",
    "    ref = test_y.iloc[i]\n",
    "    question = test_x.iloc[i][:1000]\n",
    "    try:\n",
    "        a_text = query_es(question, is_array=False)[0][1]\n",
    "    except:\n",
    "        a_text = ''\n",
    "    \n",
    "    #references.append(strip_punkt(voc_holder.to_word_idx(ref, -1), eval_conf.voc_holder.reverse_vocab))\n",
    "    #hypothesis.append(strip_punkt(voc_holder.to_word_idx(a_text, -1), eval_conf.voc_holder.reverse_vocab))\n",
    "    r = voc_holder.to_word_idx(ref, -1)\n",
    "    h = voc_holder.to_word_idx(a_text, -1)\n",
    "    references.append(r[r.nonzero()])\n",
    "    hypothesis.append(h[h.nonzero()])\n",
    "\n",
    "    \n",
    "references = np.array(references)\n",
    "hypothesis = np.array(hypothesis)"
   ]
  },
  {
   "cell_type": "code",
   "execution_count": 12,
   "metadata": {},
   "outputs": [
    {
     "name": "stdout",
     "output_type": "stream",
     "text": [
      "BLEU@2: 13.728593680241405\n",
      "Embedding Average: 81.47075795484712\n",
      "Greedy Matching: 34.52206711164485\n",
      "ROUGE_L: 22.34534856474629\n",
      "Vector Extrema: 40.15821643147644\n"
     ]
    }
   ],
   "source": [
    "eval_conf = get_evaluation_conf(None, hparams, None, None, voc_holder)\n",
    "evaluation = evaluate_words_index(references, hypothesis, eval_conf, hparams.evaluation_metrics, True)\n",
    "print(format_metrics(evaluation))"
   ]
  },
  {
   "cell_type": "code",
   "execution_count": 8,
   "metadata": {},
   "outputs": [
    {
     "name": "stdout",
     "output_type": "stream",
     "text": [
      "<user> i have updated my <hashtag> to <hashtag> . 2 and i am not seeing the apple pay cash ! i live in us\n",
      "\n",
      ">>>>> i have updated everything and finally caved in to pay for more storage and i still see boxes 🤦🏾‍♀️ why <user> ??? <hashtag> 😭😭 \n",
      "<<<<< <user> we think this might help with that: <url>\n",
      "\n",
      ">>>>> <user> live wallpapers are not working. i am running <version>  on my new <hashtag>. i have tried restarting and also switching to a still then switching back to a live. help, please. \n",
      "<<<<< <user> we are happy to help you get this fixed. sounds like you may have the reduce motion feature enabled. follow the steps here to locate and disable this: <url>  let us know if this helps you.\n",
      "\n",
      ">>>>> <user> cannot get apple pay cash to set up. keep getting the 'apple pay cash unavailable' message when trying to set up. help!! \n",
      "<<<<< <user> for help with apple pay cash, connect with our specialists here: <url>\n",
      "\n",
      ">>>>> <user> will apple pay cash work between countries? i would love to send some $$ to my lovely girlfriend <user> in canada from usa! thanks! \n",
      "<<<<< <user> we are here to help this article can tell you all about apple pay cash. <url>\n",
      "\n",
      ">>>>> <user> i have already done that and get the message \"not enough info to reset security questions\" i live in ireland and cannot call us <user> for the best assistance with your apple id, and resetting your security questions, please reach out directly to our apple id advisors here: <url>\n",
      "<user> i am trying to reset my security questions and it is not allowing me to. i am now locked out of imessage\n",
      "\n",
      "<<<<< <user> no worries, you can change the location of the support page by selecting the country currently listed at the bottom. from there you can follow the on screen questions to be paired with an advisor that can further assist you in recovering your apple id!\n"
     ]
    }
   ],
   "source": [
    "#answer = '<user> every time i restart my <version> phone i get sms notifications from years ago , then 1/2 the time the home screen stops working . backup restore and happening on my iphone x now too <url>'\n",
    "#answer = 'ah so when it is apple going to update xcode with <version> support ? updated my iphone 6s and now cannot build my project for my device . thanks <user>'\n",
    "answer = '<user> i have updated my <hashtag> to <hashtag> . 2 and i am not seeing the apple pay cash ! i live in us'\n",
    "ir_answers = query_es(answer,\n",
    "        5, False, 'text_x')\n",
    "print(answer)\n",
    "print()\n",
    "print('\\n\\n'.join(map(lambda x: '>>>>> ' +x[0] + '\\n<<<<< ' + x[1], ir_answers)))"
   ]
  },
  {
   "cell_type": "code",
   "execution_count": null,
   "metadata": {},
   "outputs": [],
   "source": []
  }
 ],
 "metadata": {
  "hide_input": false,
  "kernelspec": {
   "display_name": "Python 3",
   "language": "python",
   "name": "python3"
  },
  "language_info": {
   "codemirror_mode": {
    "name": "ipython",
    "version": 3
   },
   "file_extension": ".py",
   "mimetype": "text/x-python",
   "name": "python",
   "nbconvert_exporter": "python",
   "pygments_lexer": "ipython3",
   "version": "3.5.2"
  },
  "varInspector": {
   "cols": {
    "lenName": 16,
    "lenType": 16,
    "lenVar": 40
   },
   "kernels_config": {
    "python": {
     "delete_cmd_postfix": "",
     "delete_cmd_prefix": "del ",
     "library": "var_list.py",
     "varRefreshCmd": "print(var_dic_list())"
    },
    "r": {
     "delete_cmd_postfix": ") ",
     "delete_cmd_prefix": "rm(",
     "library": "var_list.r",
     "varRefreshCmd": "cat(var_dic_list()) "
    }
   },
   "types_to_exclude": [
    "module",
    "function",
    "builtin_function_or_method",
    "instance",
    "_Feature"
   ],
   "window_display": false
  }
 },
 "nbformat": 4,
 "nbformat_minor": 2
}
